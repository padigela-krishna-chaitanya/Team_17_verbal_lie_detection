{
  "nbformat": 4,
  "nbformat_minor": 0,
  "metadata": {
    "colab": {
      "provenance": [],
      "gpuType": "T4"
    },
    "kernelspec": {
      "name": "python3",
      "display_name": "Python 3"
    },
    "language_info": {
      "name": "python"
    },
    "accelerator": "GPU",
    "widgets": {
      "application/vnd.jupyter.widget-state+json": {
        "1b86ad6c8e9c4db28505d0c682401eea": {
          "model_module": "@jupyter-widgets/controls",
          "model_name": "HBoxModel",
          "model_module_version": "1.5.0",
          "state": {
            "_dom_classes": [],
            "_model_module": "@jupyter-widgets/controls",
            "_model_module_version": "1.5.0",
            "_model_name": "HBoxModel",
            "_view_count": null,
            "_view_module": "@jupyter-widgets/controls",
            "_view_module_version": "1.5.0",
            "_view_name": "HBoxView",
            "box_style": "",
            "children": [
              "IPY_MODEL_a84d790580a3444c8e07dae218e3d49f",
              "IPY_MODEL_225505e3367e4de2b512915b40f67a9f",
              "IPY_MODEL_f6db15dc345b43b78056cd58a1b55dc9"
            ],
            "layout": "IPY_MODEL_e75b4f59331946949f1f34e130f2acc3"
          }
        },
        "a84d790580a3444c8e07dae218e3d49f": {
          "model_module": "@jupyter-widgets/controls",
          "model_name": "HTMLModel",
          "model_module_version": "1.5.0",
          "state": {
            "_dom_classes": [],
            "_model_module": "@jupyter-widgets/controls",
            "_model_module_version": "1.5.0",
            "_model_name": "HTMLModel",
            "_view_count": null,
            "_view_module": "@jupyter-widgets/controls",
            "_view_module_version": "1.5.0",
            "_view_name": "HTMLView",
            "description": "",
            "description_tooltip": null,
            "layout": "IPY_MODEL_bf750ba36b7643908e8a6dbc57f52f32",
            "placeholder": "​",
            "style": "IPY_MODEL_3870f245d4404584be6b858ec884805a",
            "value": "tokenizer_config.json: 100%"
          }
        },
        "225505e3367e4de2b512915b40f67a9f": {
          "model_module": "@jupyter-widgets/controls",
          "model_name": "FloatProgressModel",
          "model_module_version": "1.5.0",
          "state": {
            "_dom_classes": [],
            "_model_module": "@jupyter-widgets/controls",
            "_model_module_version": "1.5.0",
            "_model_name": "FloatProgressModel",
            "_view_count": null,
            "_view_module": "@jupyter-widgets/controls",
            "_view_module_version": "1.5.0",
            "_view_name": "ProgressView",
            "bar_style": "success",
            "description": "",
            "description_tooltip": null,
            "layout": "IPY_MODEL_bfb0b14fcaa845778dddd2939041381e",
            "max": 48,
            "min": 0,
            "orientation": "horizontal",
            "style": "IPY_MODEL_deef9cb0e875410794ad6af328bdb6c0",
            "value": 48
          }
        },
        "f6db15dc345b43b78056cd58a1b55dc9": {
          "model_module": "@jupyter-widgets/controls",
          "model_name": "HTMLModel",
          "model_module_version": "1.5.0",
          "state": {
            "_dom_classes": [],
            "_model_module": "@jupyter-widgets/controls",
            "_model_module_version": "1.5.0",
            "_model_name": "HTMLModel",
            "_view_count": null,
            "_view_module": "@jupyter-widgets/controls",
            "_view_module_version": "1.5.0",
            "_view_name": "HTMLView",
            "description": "",
            "description_tooltip": null,
            "layout": "IPY_MODEL_55656c7d69d64cc4a6c61aeec22f79be",
            "placeholder": "​",
            "style": "IPY_MODEL_5c33f660dda3467fa92c6254052f284f",
            "value": " 48.0/48.0 [00:00&lt;00:00, 2.54kB/s]"
          }
        },
        "e75b4f59331946949f1f34e130f2acc3": {
          "model_module": "@jupyter-widgets/base",
          "model_name": "LayoutModel",
          "model_module_version": "1.2.0",
          "state": {
            "_model_module": "@jupyter-widgets/base",
            "_model_module_version": "1.2.0",
            "_model_name": "LayoutModel",
            "_view_count": null,
            "_view_module": "@jupyter-widgets/base",
            "_view_module_version": "1.2.0",
            "_view_name": "LayoutView",
            "align_content": null,
            "align_items": null,
            "align_self": null,
            "border": null,
            "bottom": null,
            "display": null,
            "flex": null,
            "flex_flow": null,
            "grid_area": null,
            "grid_auto_columns": null,
            "grid_auto_flow": null,
            "grid_auto_rows": null,
            "grid_column": null,
            "grid_gap": null,
            "grid_row": null,
            "grid_template_areas": null,
            "grid_template_columns": null,
            "grid_template_rows": null,
            "height": null,
            "justify_content": null,
            "justify_items": null,
            "left": null,
            "margin": null,
            "max_height": null,
            "max_width": null,
            "min_height": null,
            "min_width": null,
            "object_fit": null,
            "object_position": null,
            "order": null,
            "overflow": null,
            "overflow_x": null,
            "overflow_y": null,
            "padding": null,
            "right": null,
            "top": null,
            "visibility": null,
            "width": null
          }
        },
        "bf750ba36b7643908e8a6dbc57f52f32": {
          "model_module": "@jupyter-widgets/base",
          "model_name": "LayoutModel",
          "model_module_version": "1.2.0",
          "state": {
            "_model_module": "@jupyter-widgets/base",
            "_model_module_version": "1.2.0",
            "_model_name": "LayoutModel",
            "_view_count": null,
            "_view_module": "@jupyter-widgets/base",
            "_view_module_version": "1.2.0",
            "_view_name": "LayoutView",
            "align_content": null,
            "align_items": null,
            "align_self": null,
            "border": null,
            "bottom": null,
            "display": null,
            "flex": null,
            "flex_flow": null,
            "grid_area": null,
            "grid_auto_columns": null,
            "grid_auto_flow": null,
            "grid_auto_rows": null,
            "grid_column": null,
            "grid_gap": null,
            "grid_row": null,
            "grid_template_areas": null,
            "grid_template_columns": null,
            "grid_template_rows": null,
            "height": null,
            "justify_content": null,
            "justify_items": null,
            "left": null,
            "margin": null,
            "max_height": null,
            "max_width": null,
            "min_height": null,
            "min_width": null,
            "object_fit": null,
            "object_position": null,
            "order": null,
            "overflow": null,
            "overflow_x": null,
            "overflow_y": null,
            "padding": null,
            "right": null,
            "top": null,
            "visibility": null,
            "width": null
          }
        },
        "3870f245d4404584be6b858ec884805a": {
          "model_module": "@jupyter-widgets/controls",
          "model_name": "DescriptionStyleModel",
          "model_module_version": "1.5.0",
          "state": {
            "_model_module": "@jupyter-widgets/controls",
            "_model_module_version": "1.5.0",
            "_model_name": "DescriptionStyleModel",
            "_view_count": null,
            "_view_module": "@jupyter-widgets/base",
            "_view_module_version": "1.2.0",
            "_view_name": "StyleView",
            "description_width": ""
          }
        },
        "bfb0b14fcaa845778dddd2939041381e": {
          "model_module": "@jupyter-widgets/base",
          "model_name": "LayoutModel",
          "model_module_version": "1.2.0",
          "state": {
            "_model_module": "@jupyter-widgets/base",
            "_model_module_version": "1.2.0",
            "_model_name": "LayoutModel",
            "_view_count": null,
            "_view_module": "@jupyter-widgets/base",
            "_view_module_version": "1.2.0",
            "_view_name": "LayoutView",
            "align_content": null,
            "align_items": null,
            "align_self": null,
            "border": null,
            "bottom": null,
            "display": null,
            "flex": null,
            "flex_flow": null,
            "grid_area": null,
            "grid_auto_columns": null,
            "grid_auto_flow": null,
            "grid_auto_rows": null,
            "grid_column": null,
            "grid_gap": null,
            "grid_row": null,
            "grid_template_areas": null,
            "grid_template_columns": null,
            "grid_template_rows": null,
            "height": null,
            "justify_content": null,
            "justify_items": null,
            "left": null,
            "margin": null,
            "max_height": null,
            "max_width": null,
            "min_height": null,
            "min_width": null,
            "object_fit": null,
            "object_position": null,
            "order": null,
            "overflow": null,
            "overflow_x": null,
            "overflow_y": null,
            "padding": null,
            "right": null,
            "top": null,
            "visibility": null,
            "width": null
          }
        },
        "deef9cb0e875410794ad6af328bdb6c0": {
          "model_module": "@jupyter-widgets/controls",
          "model_name": "ProgressStyleModel",
          "model_module_version": "1.5.0",
          "state": {
            "_model_module": "@jupyter-widgets/controls",
            "_model_module_version": "1.5.0",
            "_model_name": "ProgressStyleModel",
            "_view_count": null,
            "_view_module": "@jupyter-widgets/base",
            "_view_module_version": "1.2.0",
            "_view_name": "StyleView",
            "bar_color": null,
            "description_width": ""
          }
        },
        "55656c7d69d64cc4a6c61aeec22f79be": {
          "model_module": "@jupyter-widgets/base",
          "model_name": "LayoutModel",
          "model_module_version": "1.2.0",
          "state": {
            "_model_module": "@jupyter-widgets/base",
            "_model_module_version": "1.2.0",
            "_model_name": "LayoutModel",
            "_view_count": null,
            "_view_module": "@jupyter-widgets/base",
            "_view_module_version": "1.2.0",
            "_view_name": "LayoutView",
            "align_content": null,
            "align_items": null,
            "align_self": null,
            "border": null,
            "bottom": null,
            "display": null,
            "flex": null,
            "flex_flow": null,
            "grid_area": null,
            "grid_auto_columns": null,
            "grid_auto_flow": null,
            "grid_auto_rows": null,
            "grid_column": null,
            "grid_gap": null,
            "grid_row": null,
            "grid_template_areas": null,
            "grid_template_columns": null,
            "grid_template_rows": null,
            "height": null,
            "justify_content": null,
            "justify_items": null,
            "left": null,
            "margin": null,
            "max_height": null,
            "max_width": null,
            "min_height": null,
            "min_width": null,
            "object_fit": null,
            "object_position": null,
            "order": null,
            "overflow": null,
            "overflow_x": null,
            "overflow_y": null,
            "padding": null,
            "right": null,
            "top": null,
            "visibility": null,
            "width": null
          }
        },
        "5c33f660dda3467fa92c6254052f284f": {
          "model_module": "@jupyter-widgets/controls",
          "model_name": "DescriptionStyleModel",
          "model_module_version": "1.5.0",
          "state": {
            "_model_module": "@jupyter-widgets/controls",
            "_model_module_version": "1.5.0",
            "_model_name": "DescriptionStyleModel",
            "_view_count": null,
            "_view_module": "@jupyter-widgets/base",
            "_view_module_version": "1.2.0",
            "_view_name": "StyleView",
            "description_width": ""
          }
        },
        "90f1500fab01410891e21d4a1a1164f0": {
          "model_module": "@jupyter-widgets/controls",
          "model_name": "HBoxModel",
          "model_module_version": "1.5.0",
          "state": {
            "_dom_classes": [],
            "_model_module": "@jupyter-widgets/controls",
            "_model_module_version": "1.5.0",
            "_model_name": "HBoxModel",
            "_view_count": null,
            "_view_module": "@jupyter-widgets/controls",
            "_view_module_version": "1.5.0",
            "_view_name": "HBoxView",
            "box_style": "",
            "children": [
              "IPY_MODEL_5b37b3741b92412884803889297d5c54",
              "IPY_MODEL_a884ef62cc904877a5d76ac6b48634a4",
              "IPY_MODEL_188b2a35555f4210b9654cc8303d2bc4"
            ],
            "layout": "IPY_MODEL_dadadc53f3e34fd4aa02625f14407cbe"
          }
        },
        "5b37b3741b92412884803889297d5c54": {
          "model_module": "@jupyter-widgets/controls",
          "model_name": "HTMLModel",
          "model_module_version": "1.5.0",
          "state": {
            "_dom_classes": [],
            "_model_module": "@jupyter-widgets/controls",
            "_model_module_version": "1.5.0",
            "_model_name": "HTMLModel",
            "_view_count": null,
            "_view_module": "@jupyter-widgets/controls",
            "_view_module_version": "1.5.0",
            "_view_name": "HTMLView",
            "description": "",
            "description_tooltip": null,
            "layout": "IPY_MODEL_f83b3cd683f74c5ea2eaa8d74dd7d2c0",
            "placeholder": "​",
            "style": "IPY_MODEL_ee27146fb6d64d249629a5551fedbd64",
            "value": "vocab.txt: 100%"
          }
        },
        "a884ef62cc904877a5d76ac6b48634a4": {
          "model_module": "@jupyter-widgets/controls",
          "model_name": "FloatProgressModel",
          "model_module_version": "1.5.0",
          "state": {
            "_dom_classes": [],
            "_model_module": "@jupyter-widgets/controls",
            "_model_module_version": "1.5.0",
            "_model_name": "FloatProgressModel",
            "_view_count": null,
            "_view_module": "@jupyter-widgets/controls",
            "_view_module_version": "1.5.0",
            "_view_name": "ProgressView",
            "bar_style": "success",
            "description": "",
            "description_tooltip": null,
            "layout": "IPY_MODEL_026c81825d934ad2a5eaf82a48d2a47f",
            "max": 231508,
            "min": 0,
            "orientation": "horizontal",
            "style": "IPY_MODEL_7d189d263d0a4af1a438721df93d59a1",
            "value": 231508
          }
        },
        "188b2a35555f4210b9654cc8303d2bc4": {
          "model_module": "@jupyter-widgets/controls",
          "model_name": "HTMLModel",
          "model_module_version": "1.5.0",
          "state": {
            "_dom_classes": [],
            "_model_module": "@jupyter-widgets/controls",
            "_model_module_version": "1.5.0",
            "_model_name": "HTMLModel",
            "_view_count": null,
            "_view_module": "@jupyter-widgets/controls",
            "_view_module_version": "1.5.0",
            "_view_name": "HTMLView",
            "description": "",
            "description_tooltip": null,
            "layout": "IPY_MODEL_61cef4eeeba54cb2bced4c7a8fd39f70",
            "placeholder": "​",
            "style": "IPY_MODEL_debe0b9e34594e1fb9edb94235a5f400",
            "value": " 232k/232k [00:00&lt;00:00, 5.35MB/s]"
          }
        },
        "dadadc53f3e34fd4aa02625f14407cbe": {
          "model_module": "@jupyter-widgets/base",
          "model_name": "LayoutModel",
          "model_module_version": "1.2.0",
          "state": {
            "_model_module": "@jupyter-widgets/base",
            "_model_module_version": "1.2.0",
            "_model_name": "LayoutModel",
            "_view_count": null,
            "_view_module": "@jupyter-widgets/base",
            "_view_module_version": "1.2.0",
            "_view_name": "LayoutView",
            "align_content": null,
            "align_items": null,
            "align_self": null,
            "border": null,
            "bottom": null,
            "display": null,
            "flex": null,
            "flex_flow": null,
            "grid_area": null,
            "grid_auto_columns": null,
            "grid_auto_flow": null,
            "grid_auto_rows": null,
            "grid_column": null,
            "grid_gap": null,
            "grid_row": null,
            "grid_template_areas": null,
            "grid_template_columns": null,
            "grid_template_rows": null,
            "height": null,
            "justify_content": null,
            "justify_items": null,
            "left": null,
            "margin": null,
            "max_height": null,
            "max_width": null,
            "min_height": null,
            "min_width": null,
            "object_fit": null,
            "object_position": null,
            "order": null,
            "overflow": null,
            "overflow_x": null,
            "overflow_y": null,
            "padding": null,
            "right": null,
            "top": null,
            "visibility": null,
            "width": null
          }
        },
        "f83b3cd683f74c5ea2eaa8d74dd7d2c0": {
          "model_module": "@jupyter-widgets/base",
          "model_name": "LayoutModel",
          "model_module_version": "1.2.0",
          "state": {
            "_model_module": "@jupyter-widgets/base",
            "_model_module_version": "1.2.0",
            "_model_name": "LayoutModel",
            "_view_count": null,
            "_view_module": "@jupyter-widgets/base",
            "_view_module_version": "1.2.0",
            "_view_name": "LayoutView",
            "align_content": null,
            "align_items": null,
            "align_self": null,
            "border": null,
            "bottom": null,
            "display": null,
            "flex": null,
            "flex_flow": null,
            "grid_area": null,
            "grid_auto_columns": null,
            "grid_auto_flow": null,
            "grid_auto_rows": null,
            "grid_column": null,
            "grid_gap": null,
            "grid_row": null,
            "grid_template_areas": null,
            "grid_template_columns": null,
            "grid_template_rows": null,
            "height": null,
            "justify_content": null,
            "justify_items": null,
            "left": null,
            "margin": null,
            "max_height": null,
            "max_width": null,
            "min_height": null,
            "min_width": null,
            "object_fit": null,
            "object_position": null,
            "order": null,
            "overflow": null,
            "overflow_x": null,
            "overflow_y": null,
            "padding": null,
            "right": null,
            "top": null,
            "visibility": null,
            "width": null
          }
        },
        "ee27146fb6d64d249629a5551fedbd64": {
          "model_module": "@jupyter-widgets/controls",
          "model_name": "DescriptionStyleModel",
          "model_module_version": "1.5.0",
          "state": {
            "_model_module": "@jupyter-widgets/controls",
            "_model_module_version": "1.5.0",
            "_model_name": "DescriptionStyleModel",
            "_view_count": null,
            "_view_module": "@jupyter-widgets/base",
            "_view_module_version": "1.2.0",
            "_view_name": "StyleView",
            "description_width": ""
          }
        },
        "026c81825d934ad2a5eaf82a48d2a47f": {
          "model_module": "@jupyter-widgets/base",
          "model_name": "LayoutModel",
          "model_module_version": "1.2.0",
          "state": {
            "_model_module": "@jupyter-widgets/base",
            "_model_module_version": "1.2.0",
            "_model_name": "LayoutModel",
            "_view_count": null,
            "_view_module": "@jupyter-widgets/base",
            "_view_module_version": "1.2.0",
            "_view_name": "LayoutView",
            "align_content": null,
            "align_items": null,
            "align_self": null,
            "border": null,
            "bottom": null,
            "display": null,
            "flex": null,
            "flex_flow": null,
            "grid_area": null,
            "grid_auto_columns": null,
            "grid_auto_flow": null,
            "grid_auto_rows": null,
            "grid_column": null,
            "grid_gap": null,
            "grid_row": null,
            "grid_template_areas": null,
            "grid_template_columns": null,
            "grid_template_rows": null,
            "height": null,
            "justify_content": null,
            "justify_items": null,
            "left": null,
            "margin": null,
            "max_height": null,
            "max_width": null,
            "min_height": null,
            "min_width": null,
            "object_fit": null,
            "object_position": null,
            "order": null,
            "overflow": null,
            "overflow_x": null,
            "overflow_y": null,
            "padding": null,
            "right": null,
            "top": null,
            "visibility": null,
            "width": null
          }
        },
        "7d189d263d0a4af1a438721df93d59a1": {
          "model_module": "@jupyter-widgets/controls",
          "model_name": "ProgressStyleModel",
          "model_module_version": "1.5.0",
          "state": {
            "_model_module": "@jupyter-widgets/controls",
            "_model_module_version": "1.5.0",
            "_model_name": "ProgressStyleModel",
            "_view_count": null,
            "_view_module": "@jupyter-widgets/base",
            "_view_module_version": "1.2.0",
            "_view_name": "StyleView",
            "bar_color": null,
            "description_width": ""
          }
        },
        "61cef4eeeba54cb2bced4c7a8fd39f70": {
          "model_module": "@jupyter-widgets/base",
          "model_name": "LayoutModel",
          "model_module_version": "1.2.0",
          "state": {
            "_model_module": "@jupyter-widgets/base",
            "_model_module_version": "1.2.0",
            "_model_name": "LayoutModel",
            "_view_count": null,
            "_view_module": "@jupyter-widgets/base",
            "_view_module_version": "1.2.0",
            "_view_name": "LayoutView",
            "align_content": null,
            "align_items": null,
            "align_self": null,
            "border": null,
            "bottom": null,
            "display": null,
            "flex": null,
            "flex_flow": null,
            "grid_area": null,
            "grid_auto_columns": null,
            "grid_auto_flow": null,
            "grid_auto_rows": null,
            "grid_column": null,
            "grid_gap": null,
            "grid_row": null,
            "grid_template_areas": null,
            "grid_template_columns": null,
            "grid_template_rows": null,
            "height": null,
            "justify_content": null,
            "justify_items": null,
            "left": null,
            "margin": null,
            "max_height": null,
            "max_width": null,
            "min_height": null,
            "min_width": null,
            "object_fit": null,
            "object_position": null,
            "order": null,
            "overflow": null,
            "overflow_x": null,
            "overflow_y": null,
            "padding": null,
            "right": null,
            "top": null,
            "visibility": null,
            "width": null
          }
        },
        "debe0b9e34594e1fb9edb94235a5f400": {
          "model_module": "@jupyter-widgets/controls",
          "model_name": "DescriptionStyleModel",
          "model_module_version": "1.5.0",
          "state": {
            "_model_module": "@jupyter-widgets/controls",
            "_model_module_version": "1.5.0",
            "_model_name": "DescriptionStyleModel",
            "_view_count": null,
            "_view_module": "@jupyter-widgets/base",
            "_view_module_version": "1.2.0",
            "_view_name": "StyleView",
            "description_width": ""
          }
        },
        "53a7aa5007b04b6084299384b838f3f9": {
          "model_module": "@jupyter-widgets/controls",
          "model_name": "HBoxModel",
          "model_module_version": "1.5.0",
          "state": {
            "_dom_classes": [],
            "_model_module": "@jupyter-widgets/controls",
            "_model_module_version": "1.5.0",
            "_model_name": "HBoxModel",
            "_view_count": null,
            "_view_module": "@jupyter-widgets/controls",
            "_view_module_version": "1.5.0",
            "_view_name": "HBoxView",
            "box_style": "",
            "children": [
              "IPY_MODEL_064cb3c6490a4b20bae92b2aff7d9470",
              "IPY_MODEL_7af4677db6bd4821bb2edaff0a708476",
              "IPY_MODEL_849ba5eca5ef4c5496a951f9e472c8ec"
            ],
            "layout": "IPY_MODEL_8f0ff8f069b6490fa1fd239705b78582"
          }
        },
        "064cb3c6490a4b20bae92b2aff7d9470": {
          "model_module": "@jupyter-widgets/controls",
          "model_name": "HTMLModel",
          "model_module_version": "1.5.0",
          "state": {
            "_dom_classes": [],
            "_model_module": "@jupyter-widgets/controls",
            "_model_module_version": "1.5.0",
            "_model_name": "HTMLModel",
            "_view_count": null,
            "_view_module": "@jupyter-widgets/controls",
            "_view_module_version": "1.5.0",
            "_view_name": "HTMLView",
            "description": "",
            "description_tooltip": null,
            "layout": "IPY_MODEL_a751de9898934abda94463d05992146e",
            "placeholder": "​",
            "style": "IPY_MODEL_b4524278d8d34731b1746a9b06d8f4f4",
            "value": "tokenizer.json: 100%"
          }
        },
        "7af4677db6bd4821bb2edaff0a708476": {
          "model_module": "@jupyter-widgets/controls",
          "model_name": "FloatProgressModel",
          "model_module_version": "1.5.0",
          "state": {
            "_dom_classes": [],
            "_model_module": "@jupyter-widgets/controls",
            "_model_module_version": "1.5.0",
            "_model_name": "FloatProgressModel",
            "_view_count": null,
            "_view_module": "@jupyter-widgets/controls",
            "_view_module_version": "1.5.0",
            "_view_name": "ProgressView",
            "bar_style": "success",
            "description": "",
            "description_tooltip": null,
            "layout": "IPY_MODEL_79a9aa0c94e74813bae6d43a564fd0df",
            "max": 466062,
            "min": 0,
            "orientation": "horizontal",
            "style": "IPY_MODEL_ee06482399664f2ca2701d2b597812ac",
            "value": 466062
          }
        },
        "849ba5eca5ef4c5496a951f9e472c8ec": {
          "model_module": "@jupyter-widgets/controls",
          "model_name": "HTMLModel",
          "model_module_version": "1.5.0",
          "state": {
            "_dom_classes": [],
            "_model_module": "@jupyter-widgets/controls",
            "_model_module_version": "1.5.0",
            "_model_name": "HTMLModel",
            "_view_count": null,
            "_view_module": "@jupyter-widgets/controls",
            "_view_module_version": "1.5.0",
            "_view_name": "HTMLView",
            "description": "",
            "description_tooltip": null,
            "layout": "IPY_MODEL_9e72222110bf4b178331692f3bb4afb0",
            "placeholder": "​",
            "style": "IPY_MODEL_e944a0d459c442ec8e561cb9dc1f51d7",
            "value": " 466k/466k [00:00&lt;00:00, 17.4MB/s]"
          }
        },
        "8f0ff8f069b6490fa1fd239705b78582": {
          "model_module": "@jupyter-widgets/base",
          "model_name": "LayoutModel",
          "model_module_version": "1.2.0",
          "state": {
            "_model_module": "@jupyter-widgets/base",
            "_model_module_version": "1.2.0",
            "_model_name": "LayoutModel",
            "_view_count": null,
            "_view_module": "@jupyter-widgets/base",
            "_view_module_version": "1.2.0",
            "_view_name": "LayoutView",
            "align_content": null,
            "align_items": null,
            "align_self": null,
            "border": null,
            "bottom": null,
            "display": null,
            "flex": null,
            "flex_flow": null,
            "grid_area": null,
            "grid_auto_columns": null,
            "grid_auto_flow": null,
            "grid_auto_rows": null,
            "grid_column": null,
            "grid_gap": null,
            "grid_row": null,
            "grid_template_areas": null,
            "grid_template_columns": null,
            "grid_template_rows": null,
            "height": null,
            "justify_content": null,
            "justify_items": null,
            "left": null,
            "margin": null,
            "max_height": null,
            "max_width": null,
            "min_height": null,
            "min_width": null,
            "object_fit": null,
            "object_position": null,
            "order": null,
            "overflow": null,
            "overflow_x": null,
            "overflow_y": null,
            "padding": null,
            "right": null,
            "top": null,
            "visibility": null,
            "width": null
          }
        },
        "a751de9898934abda94463d05992146e": {
          "model_module": "@jupyter-widgets/base",
          "model_name": "LayoutModel",
          "model_module_version": "1.2.0",
          "state": {
            "_model_module": "@jupyter-widgets/base",
            "_model_module_version": "1.2.0",
            "_model_name": "LayoutModel",
            "_view_count": null,
            "_view_module": "@jupyter-widgets/base",
            "_view_module_version": "1.2.0",
            "_view_name": "LayoutView",
            "align_content": null,
            "align_items": null,
            "align_self": null,
            "border": null,
            "bottom": null,
            "display": null,
            "flex": null,
            "flex_flow": null,
            "grid_area": null,
            "grid_auto_columns": null,
            "grid_auto_flow": null,
            "grid_auto_rows": null,
            "grid_column": null,
            "grid_gap": null,
            "grid_row": null,
            "grid_template_areas": null,
            "grid_template_columns": null,
            "grid_template_rows": null,
            "height": null,
            "justify_content": null,
            "justify_items": null,
            "left": null,
            "margin": null,
            "max_height": null,
            "max_width": null,
            "min_height": null,
            "min_width": null,
            "object_fit": null,
            "object_position": null,
            "order": null,
            "overflow": null,
            "overflow_x": null,
            "overflow_y": null,
            "padding": null,
            "right": null,
            "top": null,
            "visibility": null,
            "width": null
          }
        },
        "b4524278d8d34731b1746a9b06d8f4f4": {
          "model_module": "@jupyter-widgets/controls",
          "model_name": "DescriptionStyleModel",
          "model_module_version": "1.5.0",
          "state": {
            "_model_module": "@jupyter-widgets/controls",
            "_model_module_version": "1.5.0",
            "_model_name": "DescriptionStyleModel",
            "_view_count": null,
            "_view_module": "@jupyter-widgets/base",
            "_view_module_version": "1.2.0",
            "_view_name": "StyleView",
            "description_width": ""
          }
        },
        "79a9aa0c94e74813bae6d43a564fd0df": {
          "model_module": "@jupyter-widgets/base",
          "model_name": "LayoutModel",
          "model_module_version": "1.2.0",
          "state": {
            "_model_module": "@jupyter-widgets/base",
            "_model_module_version": "1.2.0",
            "_model_name": "LayoutModel",
            "_view_count": null,
            "_view_module": "@jupyter-widgets/base",
            "_view_module_version": "1.2.0",
            "_view_name": "LayoutView",
            "align_content": null,
            "align_items": null,
            "align_self": null,
            "border": null,
            "bottom": null,
            "display": null,
            "flex": null,
            "flex_flow": null,
            "grid_area": null,
            "grid_auto_columns": null,
            "grid_auto_flow": null,
            "grid_auto_rows": null,
            "grid_column": null,
            "grid_gap": null,
            "grid_row": null,
            "grid_template_areas": null,
            "grid_template_columns": null,
            "grid_template_rows": null,
            "height": null,
            "justify_content": null,
            "justify_items": null,
            "left": null,
            "margin": null,
            "max_height": null,
            "max_width": null,
            "min_height": null,
            "min_width": null,
            "object_fit": null,
            "object_position": null,
            "order": null,
            "overflow": null,
            "overflow_x": null,
            "overflow_y": null,
            "padding": null,
            "right": null,
            "top": null,
            "visibility": null,
            "width": null
          }
        },
        "ee06482399664f2ca2701d2b597812ac": {
          "model_module": "@jupyter-widgets/controls",
          "model_name": "ProgressStyleModel",
          "model_module_version": "1.5.0",
          "state": {
            "_model_module": "@jupyter-widgets/controls",
            "_model_module_version": "1.5.0",
            "_model_name": "ProgressStyleModel",
            "_view_count": null,
            "_view_module": "@jupyter-widgets/base",
            "_view_module_version": "1.2.0",
            "_view_name": "StyleView",
            "bar_color": null,
            "description_width": ""
          }
        },
        "9e72222110bf4b178331692f3bb4afb0": {
          "model_module": "@jupyter-widgets/base",
          "model_name": "LayoutModel",
          "model_module_version": "1.2.0",
          "state": {
            "_model_module": "@jupyter-widgets/base",
            "_model_module_version": "1.2.0",
            "_model_name": "LayoutModel",
            "_view_count": null,
            "_view_module": "@jupyter-widgets/base",
            "_view_module_version": "1.2.0",
            "_view_name": "LayoutView",
            "align_content": null,
            "align_items": null,
            "align_self": null,
            "border": null,
            "bottom": null,
            "display": null,
            "flex": null,
            "flex_flow": null,
            "grid_area": null,
            "grid_auto_columns": null,
            "grid_auto_flow": null,
            "grid_auto_rows": null,
            "grid_column": null,
            "grid_gap": null,
            "grid_row": null,
            "grid_template_areas": null,
            "grid_template_columns": null,
            "grid_template_rows": null,
            "height": null,
            "justify_content": null,
            "justify_items": null,
            "left": null,
            "margin": null,
            "max_height": null,
            "max_width": null,
            "min_height": null,
            "min_width": null,
            "object_fit": null,
            "object_position": null,
            "order": null,
            "overflow": null,
            "overflow_x": null,
            "overflow_y": null,
            "padding": null,
            "right": null,
            "top": null,
            "visibility": null,
            "width": null
          }
        },
        "e944a0d459c442ec8e561cb9dc1f51d7": {
          "model_module": "@jupyter-widgets/controls",
          "model_name": "DescriptionStyleModel",
          "model_module_version": "1.5.0",
          "state": {
            "_model_module": "@jupyter-widgets/controls",
            "_model_module_version": "1.5.0",
            "_model_name": "DescriptionStyleModel",
            "_view_count": null,
            "_view_module": "@jupyter-widgets/base",
            "_view_module_version": "1.2.0",
            "_view_name": "StyleView",
            "description_width": ""
          }
        },
        "46cbc98864d84244b95e6c0a24ba30a4": {
          "model_module": "@jupyter-widgets/controls",
          "model_name": "HBoxModel",
          "model_module_version": "1.5.0",
          "state": {
            "_dom_classes": [],
            "_model_module": "@jupyter-widgets/controls",
            "_model_module_version": "1.5.0",
            "_model_name": "HBoxModel",
            "_view_count": null,
            "_view_module": "@jupyter-widgets/controls",
            "_view_module_version": "1.5.0",
            "_view_name": "HBoxView",
            "box_style": "",
            "children": [
              "IPY_MODEL_989a895b66564cde9f11ae7a05ca8668",
              "IPY_MODEL_d3fa6ccb49234c9a971cffa6a92198c8",
              "IPY_MODEL_589951f613764aa79208d023c0f0894a"
            ],
            "layout": "IPY_MODEL_a642bd675b114d63ae858fef9084993b"
          }
        },
        "989a895b66564cde9f11ae7a05ca8668": {
          "model_module": "@jupyter-widgets/controls",
          "model_name": "HTMLModel",
          "model_module_version": "1.5.0",
          "state": {
            "_dom_classes": [],
            "_model_module": "@jupyter-widgets/controls",
            "_model_module_version": "1.5.0",
            "_model_name": "HTMLModel",
            "_view_count": null,
            "_view_module": "@jupyter-widgets/controls",
            "_view_module_version": "1.5.0",
            "_view_name": "HTMLView",
            "description": "",
            "description_tooltip": null,
            "layout": "IPY_MODEL_23d81224afdc4df7a4f3578e21dad464",
            "placeholder": "​",
            "style": "IPY_MODEL_c4c6265b4bfd4a3db17ce9307db06534",
            "value": "config.json: 100%"
          }
        },
        "d3fa6ccb49234c9a971cffa6a92198c8": {
          "model_module": "@jupyter-widgets/controls",
          "model_name": "FloatProgressModel",
          "model_module_version": "1.5.0",
          "state": {
            "_dom_classes": [],
            "_model_module": "@jupyter-widgets/controls",
            "_model_module_version": "1.5.0",
            "_model_name": "FloatProgressModel",
            "_view_count": null,
            "_view_module": "@jupyter-widgets/controls",
            "_view_module_version": "1.5.0",
            "_view_name": "ProgressView",
            "bar_style": "success",
            "description": "",
            "description_tooltip": null,
            "layout": "IPY_MODEL_5a76fbf5fbd64edca439fa25307eadaf",
            "max": 570,
            "min": 0,
            "orientation": "horizontal",
            "style": "IPY_MODEL_d5836cddf3af4b96969992f5711fcbb1",
            "value": 570
          }
        },
        "589951f613764aa79208d023c0f0894a": {
          "model_module": "@jupyter-widgets/controls",
          "model_name": "HTMLModel",
          "model_module_version": "1.5.0",
          "state": {
            "_dom_classes": [],
            "_model_module": "@jupyter-widgets/controls",
            "_model_module_version": "1.5.0",
            "_model_name": "HTMLModel",
            "_view_count": null,
            "_view_module": "@jupyter-widgets/controls",
            "_view_module_version": "1.5.0",
            "_view_name": "HTMLView",
            "description": "",
            "description_tooltip": null,
            "layout": "IPY_MODEL_be3efb5e8d5f4125b62ffa2bdf54517c",
            "placeholder": "​",
            "style": "IPY_MODEL_779f7286d5d04ea8b8b1f2856a44813d",
            "value": " 570/570 [00:00&lt;00:00, 24.1kB/s]"
          }
        },
        "a642bd675b114d63ae858fef9084993b": {
          "model_module": "@jupyter-widgets/base",
          "model_name": "LayoutModel",
          "model_module_version": "1.2.0",
          "state": {
            "_model_module": "@jupyter-widgets/base",
            "_model_module_version": "1.2.0",
            "_model_name": "LayoutModel",
            "_view_count": null,
            "_view_module": "@jupyter-widgets/base",
            "_view_module_version": "1.2.0",
            "_view_name": "LayoutView",
            "align_content": null,
            "align_items": null,
            "align_self": null,
            "border": null,
            "bottom": null,
            "display": null,
            "flex": null,
            "flex_flow": null,
            "grid_area": null,
            "grid_auto_columns": null,
            "grid_auto_flow": null,
            "grid_auto_rows": null,
            "grid_column": null,
            "grid_gap": null,
            "grid_row": null,
            "grid_template_areas": null,
            "grid_template_columns": null,
            "grid_template_rows": null,
            "height": null,
            "justify_content": null,
            "justify_items": null,
            "left": null,
            "margin": null,
            "max_height": null,
            "max_width": null,
            "min_height": null,
            "min_width": null,
            "object_fit": null,
            "object_position": null,
            "order": null,
            "overflow": null,
            "overflow_x": null,
            "overflow_y": null,
            "padding": null,
            "right": null,
            "top": null,
            "visibility": null,
            "width": null
          }
        },
        "23d81224afdc4df7a4f3578e21dad464": {
          "model_module": "@jupyter-widgets/base",
          "model_name": "LayoutModel",
          "model_module_version": "1.2.0",
          "state": {
            "_model_module": "@jupyter-widgets/base",
            "_model_module_version": "1.2.0",
            "_model_name": "LayoutModel",
            "_view_count": null,
            "_view_module": "@jupyter-widgets/base",
            "_view_module_version": "1.2.0",
            "_view_name": "LayoutView",
            "align_content": null,
            "align_items": null,
            "align_self": null,
            "border": null,
            "bottom": null,
            "display": null,
            "flex": null,
            "flex_flow": null,
            "grid_area": null,
            "grid_auto_columns": null,
            "grid_auto_flow": null,
            "grid_auto_rows": null,
            "grid_column": null,
            "grid_gap": null,
            "grid_row": null,
            "grid_template_areas": null,
            "grid_template_columns": null,
            "grid_template_rows": null,
            "height": null,
            "justify_content": null,
            "justify_items": null,
            "left": null,
            "margin": null,
            "max_height": null,
            "max_width": null,
            "min_height": null,
            "min_width": null,
            "object_fit": null,
            "object_position": null,
            "order": null,
            "overflow": null,
            "overflow_x": null,
            "overflow_y": null,
            "padding": null,
            "right": null,
            "top": null,
            "visibility": null,
            "width": null
          }
        },
        "c4c6265b4bfd4a3db17ce9307db06534": {
          "model_module": "@jupyter-widgets/controls",
          "model_name": "DescriptionStyleModel",
          "model_module_version": "1.5.0",
          "state": {
            "_model_module": "@jupyter-widgets/controls",
            "_model_module_version": "1.5.0",
            "_model_name": "DescriptionStyleModel",
            "_view_count": null,
            "_view_module": "@jupyter-widgets/base",
            "_view_module_version": "1.2.0",
            "_view_name": "StyleView",
            "description_width": ""
          }
        },
        "5a76fbf5fbd64edca439fa25307eadaf": {
          "model_module": "@jupyter-widgets/base",
          "model_name": "LayoutModel",
          "model_module_version": "1.2.0",
          "state": {
            "_model_module": "@jupyter-widgets/base",
            "_model_module_version": "1.2.0",
            "_model_name": "LayoutModel",
            "_view_count": null,
            "_view_module": "@jupyter-widgets/base",
            "_view_module_version": "1.2.0",
            "_view_name": "LayoutView",
            "align_content": null,
            "align_items": null,
            "align_self": null,
            "border": null,
            "bottom": null,
            "display": null,
            "flex": null,
            "flex_flow": null,
            "grid_area": null,
            "grid_auto_columns": null,
            "grid_auto_flow": null,
            "grid_auto_rows": null,
            "grid_column": null,
            "grid_gap": null,
            "grid_row": null,
            "grid_template_areas": null,
            "grid_template_columns": null,
            "grid_template_rows": null,
            "height": null,
            "justify_content": null,
            "justify_items": null,
            "left": null,
            "margin": null,
            "max_height": null,
            "max_width": null,
            "min_height": null,
            "min_width": null,
            "object_fit": null,
            "object_position": null,
            "order": null,
            "overflow": null,
            "overflow_x": null,
            "overflow_y": null,
            "padding": null,
            "right": null,
            "top": null,
            "visibility": null,
            "width": null
          }
        },
        "d5836cddf3af4b96969992f5711fcbb1": {
          "model_module": "@jupyter-widgets/controls",
          "model_name": "ProgressStyleModel",
          "model_module_version": "1.5.0",
          "state": {
            "_model_module": "@jupyter-widgets/controls",
            "_model_module_version": "1.5.0",
            "_model_name": "ProgressStyleModel",
            "_view_count": null,
            "_view_module": "@jupyter-widgets/base",
            "_view_module_version": "1.2.0",
            "_view_name": "StyleView",
            "bar_color": null,
            "description_width": ""
          }
        },
        "be3efb5e8d5f4125b62ffa2bdf54517c": {
          "model_module": "@jupyter-widgets/base",
          "model_name": "LayoutModel",
          "model_module_version": "1.2.0",
          "state": {
            "_model_module": "@jupyter-widgets/base",
            "_model_module_version": "1.2.0",
            "_model_name": "LayoutModel",
            "_view_count": null,
            "_view_module": "@jupyter-widgets/base",
            "_view_module_version": "1.2.0",
            "_view_name": "LayoutView",
            "align_content": null,
            "align_items": null,
            "align_self": null,
            "border": null,
            "bottom": null,
            "display": null,
            "flex": null,
            "flex_flow": null,
            "grid_area": null,
            "grid_auto_columns": null,
            "grid_auto_flow": null,
            "grid_auto_rows": null,
            "grid_column": null,
            "grid_gap": null,
            "grid_row": null,
            "grid_template_areas": null,
            "grid_template_columns": null,
            "grid_template_rows": null,
            "height": null,
            "justify_content": null,
            "justify_items": null,
            "left": null,
            "margin": null,
            "max_height": null,
            "max_width": null,
            "min_height": null,
            "min_width": null,
            "object_fit": null,
            "object_position": null,
            "order": null,
            "overflow": null,
            "overflow_x": null,
            "overflow_y": null,
            "padding": null,
            "right": null,
            "top": null,
            "visibility": null,
            "width": null
          }
        },
        "779f7286d5d04ea8b8b1f2856a44813d": {
          "model_module": "@jupyter-widgets/controls",
          "model_name": "DescriptionStyleModel",
          "model_module_version": "1.5.0",
          "state": {
            "_model_module": "@jupyter-widgets/controls",
            "_model_module_version": "1.5.0",
            "_model_name": "DescriptionStyleModel",
            "_view_count": null,
            "_view_module": "@jupyter-widgets/base",
            "_view_module_version": "1.2.0",
            "_view_name": "StyleView",
            "description_width": ""
          }
        },
        "b181d35b41c648819e394250d95a3b21": {
          "model_module": "@jupyter-widgets/controls",
          "model_name": "HBoxModel",
          "model_module_version": "1.5.0",
          "state": {
            "_dom_classes": [],
            "_model_module": "@jupyter-widgets/controls",
            "_model_module_version": "1.5.0",
            "_model_name": "HBoxModel",
            "_view_count": null,
            "_view_module": "@jupyter-widgets/controls",
            "_view_module_version": "1.5.0",
            "_view_name": "HBoxView",
            "box_style": "",
            "children": [
              "IPY_MODEL_498325359ec141afb888d4372a15e491",
              "IPY_MODEL_5bf2b03415b149fbba52799925029b25",
              "IPY_MODEL_7067c8eb20e545d7bba20b01fc7f759f"
            ],
            "layout": "IPY_MODEL_7296fb9a743048499d515f7f4ca590c6"
          }
        },
        "498325359ec141afb888d4372a15e491": {
          "model_module": "@jupyter-widgets/controls",
          "model_name": "HTMLModel",
          "model_module_version": "1.5.0",
          "state": {
            "_dom_classes": [],
            "_model_module": "@jupyter-widgets/controls",
            "_model_module_version": "1.5.0",
            "_model_name": "HTMLModel",
            "_view_count": null,
            "_view_module": "@jupyter-widgets/controls",
            "_view_module_version": "1.5.0",
            "_view_name": "HTMLView",
            "description": "",
            "description_tooltip": null,
            "layout": "IPY_MODEL_a412a7ad6d7946e390e7077b66bc2794",
            "placeholder": "​",
            "style": "IPY_MODEL_eb6a2521a11d413a985077c9849e78c8",
            "value": "model.safetensors: 100%"
          }
        },
        "5bf2b03415b149fbba52799925029b25": {
          "model_module": "@jupyter-widgets/controls",
          "model_name": "FloatProgressModel",
          "model_module_version": "1.5.0",
          "state": {
            "_dom_classes": [],
            "_model_module": "@jupyter-widgets/controls",
            "_model_module_version": "1.5.0",
            "_model_name": "FloatProgressModel",
            "_view_count": null,
            "_view_module": "@jupyter-widgets/controls",
            "_view_module_version": "1.5.0",
            "_view_name": "ProgressView",
            "bar_style": "success",
            "description": "",
            "description_tooltip": null,
            "layout": "IPY_MODEL_9bd79e791165465889e3378cf0c6c6b5",
            "max": 440449768,
            "min": 0,
            "orientation": "horizontal",
            "style": "IPY_MODEL_9181bd0ab739401687883b70655fc23f",
            "value": 440449768
          }
        },
        "7067c8eb20e545d7bba20b01fc7f759f": {
          "model_module": "@jupyter-widgets/controls",
          "model_name": "HTMLModel",
          "model_module_version": "1.5.0",
          "state": {
            "_dom_classes": [],
            "_model_module": "@jupyter-widgets/controls",
            "_model_module_version": "1.5.0",
            "_model_name": "HTMLModel",
            "_view_count": null,
            "_view_module": "@jupyter-widgets/controls",
            "_view_module_version": "1.5.0",
            "_view_name": "HTMLView",
            "description": "",
            "description_tooltip": null,
            "layout": "IPY_MODEL_869c1ccc932a484d986845903846b3b1",
            "placeholder": "​",
            "style": "IPY_MODEL_bfc046b9850f496aba9e00e8178877f4",
            "value": " 440M/440M [00:02&lt;00:00, 199MB/s]"
          }
        },
        "7296fb9a743048499d515f7f4ca590c6": {
          "model_module": "@jupyter-widgets/base",
          "model_name": "LayoutModel",
          "model_module_version": "1.2.0",
          "state": {
            "_model_module": "@jupyter-widgets/base",
            "_model_module_version": "1.2.0",
            "_model_name": "LayoutModel",
            "_view_count": null,
            "_view_module": "@jupyter-widgets/base",
            "_view_module_version": "1.2.0",
            "_view_name": "LayoutView",
            "align_content": null,
            "align_items": null,
            "align_self": null,
            "border": null,
            "bottom": null,
            "display": null,
            "flex": null,
            "flex_flow": null,
            "grid_area": null,
            "grid_auto_columns": null,
            "grid_auto_flow": null,
            "grid_auto_rows": null,
            "grid_column": null,
            "grid_gap": null,
            "grid_row": null,
            "grid_template_areas": null,
            "grid_template_columns": null,
            "grid_template_rows": null,
            "height": null,
            "justify_content": null,
            "justify_items": null,
            "left": null,
            "margin": null,
            "max_height": null,
            "max_width": null,
            "min_height": null,
            "min_width": null,
            "object_fit": null,
            "object_position": null,
            "order": null,
            "overflow": null,
            "overflow_x": null,
            "overflow_y": null,
            "padding": null,
            "right": null,
            "top": null,
            "visibility": null,
            "width": null
          }
        },
        "a412a7ad6d7946e390e7077b66bc2794": {
          "model_module": "@jupyter-widgets/base",
          "model_name": "LayoutModel",
          "model_module_version": "1.2.0",
          "state": {
            "_model_module": "@jupyter-widgets/base",
            "_model_module_version": "1.2.0",
            "_model_name": "LayoutModel",
            "_view_count": null,
            "_view_module": "@jupyter-widgets/base",
            "_view_module_version": "1.2.0",
            "_view_name": "LayoutView",
            "align_content": null,
            "align_items": null,
            "align_self": null,
            "border": null,
            "bottom": null,
            "display": null,
            "flex": null,
            "flex_flow": null,
            "grid_area": null,
            "grid_auto_columns": null,
            "grid_auto_flow": null,
            "grid_auto_rows": null,
            "grid_column": null,
            "grid_gap": null,
            "grid_row": null,
            "grid_template_areas": null,
            "grid_template_columns": null,
            "grid_template_rows": null,
            "height": null,
            "justify_content": null,
            "justify_items": null,
            "left": null,
            "margin": null,
            "max_height": null,
            "max_width": null,
            "min_height": null,
            "min_width": null,
            "object_fit": null,
            "object_position": null,
            "order": null,
            "overflow": null,
            "overflow_x": null,
            "overflow_y": null,
            "padding": null,
            "right": null,
            "top": null,
            "visibility": null,
            "width": null
          }
        },
        "eb6a2521a11d413a985077c9849e78c8": {
          "model_module": "@jupyter-widgets/controls",
          "model_name": "DescriptionStyleModel",
          "model_module_version": "1.5.0",
          "state": {
            "_model_module": "@jupyter-widgets/controls",
            "_model_module_version": "1.5.0",
            "_model_name": "DescriptionStyleModel",
            "_view_count": null,
            "_view_module": "@jupyter-widgets/base",
            "_view_module_version": "1.2.0",
            "_view_name": "StyleView",
            "description_width": ""
          }
        },
        "9bd79e791165465889e3378cf0c6c6b5": {
          "model_module": "@jupyter-widgets/base",
          "model_name": "LayoutModel",
          "model_module_version": "1.2.0",
          "state": {
            "_model_module": "@jupyter-widgets/base",
            "_model_module_version": "1.2.0",
            "_model_name": "LayoutModel",
            "_view_count": null,
            "_view_module": "@jupyter-widgets/base",
            "_view_module_version": "1.2.0",
            "_view_name": "LayoutView",
            "align_content": null,
            "align_items": null,
            "align_self": null,
            "border": null,
            "bottom": null,
            "display": null,
            "flex": null,
            "flex_flow": null,
            "grid_area": null,
            "grid_auto_columns": null,
            "grid_auto_flow": null,
            "grid_auto_rows": null,
            "grid_column": null,
            "grid_gap": null,
            "grid_row": null,
            "grid_template_areas": null,
            "grid_template_columns": null,
            "grid_template_rows": null,
            "height": null,
            "justify_content": null,
            "justify_items": null,
            "left": null,
            "margin": null,
            "max_height": null,
            "max_width": null,
            "min_height": null,
            "min_width": null,
            "object_fit": null,
            "object_position": null,
            "order": null,
            "overflow": null,
            "overflow_x": null,
            "overflow_y": null,
            "padding": null,
            "right": null,
            "top": null,
            "visibility": null,
            "width": null
          }
        },
        "9181bd0ab739401687883b70655fc23f": {
          "model_module": "@jupyter-widgets/controls",
          "model_name": "ProgressStyleModel",
          "model_module_version": "1.5.0",
          "state": {
            "_model_module": "@jupyter-widgets/controls",
            "_model_module_version": "1.5.0",
            "_model_name": "ProgressStyleModel",
            "_view_count": null,
            "_view_module": "@jupyter-widgets/base",
            "_view_module_version": "1.2.0",
            "_view_name": "StyleView",
            "bar_color": null,
            "description_width": ""
          }
        },
        "869c1ccc932a484d986845903846b3b1": {
          "model_module": "@jupyter-widgets/base",
          "model_name": "LayoutModel",
          "model_module_version": "1.2.0",
          "state": {
            "_model_module": "@jupyter-widgets/base",
            "_model_module_version": "1.2.0",
            "_model_name": "LayoutModel",
            "_view_count": null,
            "_view_module": "@jupyter-widgets/base",
            "_view_module_version": "1.2.0",
            "_view_name": "LayoutView",
            "align_content": null,
            "align_items": null,
            "align_self": null,
            "border": null,
            "bottom": null,
            "display": null,
            "flex": null,
            "flex_flow": null,
            "grid_area": null,
            "grid_auto_columns": null,
            "grid_auto_flow": null,
            "grid_auto_rows": null,
            "grid_column": null,
            "grid_gap": null,
            "grid_row": null,
            "grid_template_areas": null,
            "grid_template_columns": null,
            "grid_template_rows": null,
            "height": null,
            "justify_content": null,
            "justify_items": null,
            "left": null,
            "margin": null,
            "max_height": null,
            "max_width": null,
            "min_height": null,
            "min_width": null,
            "object_fit": null,
            "object_position": null,
            "order": null,
            "overflow": null,
            "overflow_x": null,
            "overflow_y": null,
            "padding": null,
            "right": null,
            "top": null,
            "visibility": null,
            "width": null
          }
        },
        "bfc046b9850f496aba9e00e8178877f4": {
          "model_module": "@jupyter-widgets/controls",
          "model_name": "DescriptionStyleModel",
          "model_module_version": "1.5.0",
          "state": {
            "_model_module": "@jupyter-widgets/controls",
            "_model_module_version": "1.5.0",
            "_model_name": "DescriptionStyleModel",
            "_view_count": null,
            "_view_module": "@jupyter-widgets/base",
            "_view_module_version": "1.2.0",
            "_view_name": "StyleView",
            "description_width": ""
          }
        }
      }
    }
  },
  "cells": [
    {
      "cell_type": "markdown",
      "source": [
        "# Installing and importing necessary libraries - experiment 2"
      ],
      "metadata": {
        "id": "YNemz2aCN80n"
      }
    },
    {
      "cell_type": "code",
      "execution_count": 1,
      "metadata": {
        "colab": {
          "base_uri": "https://localhost:8080/"
        },
        "id": "BYjgWGYikdVp",
        "outputId": "1eff7830-3674-4db4-ce1d-cfc3187e2f17"
      },
      "outputs": [
        {
          "output_type": "stream",
          "name": "stdout",
          "text": [
            "Requirement already satisfied: transformers in /usr/local/lib/python3.10/dist-packages (4.46.3)\n",
            "Collecting datasets\n",
            "  Downloading datasets-3.1.0-py3-none-any.whl.metadata (20 kB)\n",
            "Requirement already satisfied: torch in /usr/local/lib/python3.10/dist-packages (2.5.1+cu121)\n",
            "Requirement already satisfied: scikit-learn in /usr/local/lib/python3.10/dist-packages (1.5.2)\n",
            "Requirement already satisfied: filelock in /usr/local/lib/python3.10/dist-packages (from transformers) (3.16.1)\n",
            "Requirement already satisfied: huggingface-hub<1.0,>=0.23.2 in /usr/local/lib/python3.10/dist-packages (from transformers) (0.26.3)\n",
            "Requirement already satisfied: numpy>=1.17 in /usr/local/lib/python3.10/dist-packages (from transformers) (1.26.4)\n",
            "Requirement already satisfied: packaging>=20.0 in /usr/local/lib/python3.10/dist-packages (from transformers) (24.2)\n",
            "Requirement already satisfied: pyyaml>=5.1 in /usr/local/lib/python3.10/dist-packages (from transformers) (6.0.2)\n",
            "Requirement already satisfied: regex!=2019.12.17 in /usr/local/lib/python3.10/dist-packages (from transformers) (2024.9.11)\n",
            "Requirement already satisfied: requests in /usr/local/lib/python3.10/dist-packages (from transformers) (2.32.3)\n",
            "Requirement already satisfied: tokenizers<0.21,>=0.20 in /usr/local/lib/python3.10/dist-packages (from transformers) (0.20.3)\n",
            "Requirement already satisfied: safetensors>=0.4.1 in /usr/local/lib/python3.10/dist-packages (from transformers) (0.4.5)\n",
            "Requirement already satisfied: tqdm>=4.27 in /usr/local/lib/python3.10/dist-packages (from transformers) (4.66.6)\n",
            "Requirement already satisfied: pyarrow>=15.0.0 in /usr/local/lib/python3.10/dist-packages (from datasets) (17.0.0)\n",
            "Collecting dill<0.3.9,>=0.3.0 (from datasets)\n",
            "  Downloading dill-0.3.8-py3-none-any.whl.metadata (10 kB)\n",
            "Requirement already satisfied: pandas in /usr/local/lib/python3.10/dist-packages (from datasets) (2.2.2)\n",
            "Collecting xxhash (from datasets)\n",
            "  Downloading xxhash-3.5.0-cp310-cp310-manylinux_2_17_x86_64.manylinux2014_x86_64.whl.metadata (12 kB)\n",
            "Collecting multiprocess<0.70.17 (from datasets)\n",
            "  Downloading multiprocess-0.70.16-py310-none-any.whl.metadata (7.2 kB)\n",
            "Collecting fsspec<=2024.9.0,>=2023.1.0 (from fsspec[http]<=2024.9.0,>=2023.1.0->datasets)\n",
            "  Downloading fsspec-2024.9.0-py3-none-any.whl.metadata (11 kB)\n",
            "Requirement already satisfied: aiohttp in /usr/local/lib/python3.10/dist-packages (from datasets) (3.11.9)\n",
            "Requirement already satisfied: typing-extensions>=4.8.0 in /usr/local/lib/python3.10/dist-packages (from torch) (4.12.2)\n",
            "Requirement already satisfied: networkx in /usr/local/lib/python3.10/dist-packages (from torch) (3.4.2)\n",
            "Requirement already satisfied: jinja2 in /usr/local/lib/python3.10/dist-packages (from torch) (3.1.4)\n",
            "Requirement already satisfied: sympy==1.13.1 in /usr/local/lib/python3.10/dist-packages (from torch) (1.13.1)\n",
            "Requirement already satisfied: mpmath<1.4,>=1.1.0 in /usr/local/lib/python3.10/dist-packages (from sympy==1.13.1->torch) (1.3.0)\n",
            "Requirement already satisfied: scipy>=1.6.0 in /usr/local/lib/python3.10/dist-packages (from scikit-learn) (1.13.1)\n",
            "Requirement already satisfied: joblib>=1.2.0 in /usr/local/lib/python3.10/dist-packages (from scikit-learn) (1.4.2)\n",
            "Requirement already satisfied: threadpoolctl>=3.1.0 in /usr/local/lib/python3.10/dist-packages (from scikit-learn) (3.5.0)\n",
            "Requirement already satisfied: aiohappyeyeballs>=2.3.0 in /usr/local/lib/python3.10/dist-packages (from aiohttp->datasets) (2.4.4)\n",
            "Requirement already satisfied: aiosignal>=1.1.2 in /usr/local/lib/python3.10/dist-packages (from aiohttp->datasets) (1.3.1)\n",
            "Requirement already satisfied: async-timeout<6.0,>=4.0 in /usr/local/lib/python3.10/dist-packages (from aiohttp->datasets) (4.0.3)\n",
            "Requirement already satisfied: attrs>=17.3.0 in /usr/local/lib/python3.10/dist-packages (from aiohttp->datasets) (24.2.0)\n",
            "Requirement already satisfied: frozenlist>=1.1.1 in /usr/local/lib/python3.10/dist-packages (from aiohttp->datasets) (1.5.0)\n",
            "Requirement already satisfied: multidict<7.0,>=4.5 in /usr/local/lib/python3.10/dist-packages (from aiohttp->datasets) (6.1.0)\n",
            "Requirement already satisfied: propcache>=0.2.0 in /usr/local/lib/python3.10/dist-packages (from aiohttp->datasets) (0.2.1)\n",
            "Requirement already satisfied: yarl<2.0,>=1.17.0 in /usr/local/lib/python3.10/dist-packages (from aiohttp->datasets) (1.18.3)\n",
            "Requirement already satisfied: charset-normalizer<4,>=2 in /usr/local/lib/python3.10/dist-packages (from requests->transformers) (3.4.0)\n",
            "Requirement already satisfied: idna<4,>=2.5 in /usr/local/lib/python3.10/dist-packages (from requests->transformers) (3.10)\n",
            "Requirement already satisfied: urllib3<3,>=1.21.1 in /usr/local/lib/python3.10/dist-packages (from requests->transformers) (2.2.3)\n",
            "Requirement already satisfied: certifi>=2017.4.17 in /usr/local/lib/python3.10/dist-packages (from requests->transformers) (2024.8.30)\n",
            "Requirement already satisfied: MarkupSafe>=2.0 in /usr/local/lib/python3.10/dist-packages (from jinja2->torch) (3.0.2)\n",
            "Requirement already satisfied: python-dateutil>=2.8.2 in /usr/local/lib/python3.10/dist-packages (from pandas->datasets) (2.8.2)\n",
            "Requirement already satisfied: pytz>=2020.1 in /usr/local/lib/python3.10/dist-packages (from pandas->datasets) (2024.2)\n",
            "Requirement already satisfied: tzdata>=2022.7 in /usr/local/lib/python3.10/dist-packages (from pandas->datasets) (2024.2)\n",
            "Requirement already satisfied: six>=1.5 in /usr/local/lib/python3.10/dist-packages (from python-dateutil>=2.8.2->pandas->datasets) (1.16.0)\n",
            "Downloading datasets-3.1.0-py3-none-any.whl (480 kB)\n",
            "\u001b[2K   \u001b[90m━━━━━━━━━━━━━━━━━━━━━━━━━━━━━━━━━━━━━━━━\u001b[0m \u001b[32m480.6/480.6 kB\u001b[0m \u001b[31m14.6 MB/s\u001b[0m eta \u001b[36m0:00:00\u001b[0m\n",
            "\u001b[?25hDownloading dill-0.3.8-py3-none-any.whl (116 kB)\n",
            "\u001b[2K   \u001b[90m━━━━━━━━━━━━━━━━━━━━━━━━━━━━━━━━━━━━━━━━\u001b[0m \u001b[32m116.3/116.3 kB\u001b[0m \u001b[31m10.7 MB/s\u001b[0m eta \u001b[36m0:00:00\u001b[0m\n",
            "\u001b[?25hDownloading fsspec-2024.9.0-py3-none-any.whl (179 kB)\n",
            "\u001b[2K   \u001b[90m━━━━━━━━━━━━━━━━━━━━━━━━━━━━━━━━━━━━━━━━\u001b[0m \u001b[32m179.3/179.3 kB\u001b[0m \u001b[31m18.9 MB/s\u001b[0m eta \u001b[36m0:00:00\u001b[0m\n",
            "\u001b[?25hDownloading multiprocess-0.70.16-py310-none-any.whl (134 kB)\n",
            "\u001b[2K   \u001b[90m━━━━━━━━━━━━━━━━━━━━━━━━━━━━━━━━━━━━━━━━\u001b[0m \u001b[32m134.8/134.8 kB\u001b[0m \u001b[31m13.2 MB/s\u001b[0m eta \u001b[36m0:00:00\u001b[0m\n",
            "\u001b[?25hDownloading xxhash-3.5.0-cp310-cp310-manylinux_2_17_x86_64.manylinux2014_x86_64.whl (194 kB)\n",
            "\u001b[2K   \u001b[90m━━━━━━━━━━━━━━━━━━━━━━━━━━━━━━━━━━━━━━━━\u001b[0m \u001b[32m194.1/194.1 kB\u001b[0m \u001b[31m16.6 MB/s\u001b[0m eta \u001b[36m0:00:00\u001b[0m\n",
            "\u001b[?25hInstalling collected packages: xxhash, fsspec, dill, multiprocess, datasets\n",
            "  Attempting uninstall: fsspec\n",
            "    Found existing installation: fsspec 2024.10.0\n",
            "    Uninstalling fsspec-2024.10.0:\n",
            "      Successfully uninstalled fsspec-2024.10.0\n",
            "\u001b[31mERROR: pip's dependency resolver does not currently take into account all the packages that are installed. This behaviour is the source of the following dependency conflicts.\n",
            "gcsfs 2024.10.0 requires fsspec==2024.10.0, but you have fsspec 2024.9.0 which is incompatible.\u001b[0m\u001b[31m\n",
            "\u001b[0mSuccessfully installed datasets-3.1.0 dill-0.3.8 fsspec-2024.9.0 multiprocess-0.70.16 xxhash-3.5.0\n"
          ]
        }
      ],
      "source": [
        "!pip install transformers datasets torch scikit-learn\n"
      ]
    },
    {
      "cell_type": "code",
      "source": [
        "import pandas as pd\n",
        "import numpy as np\n",
        "import torch\n",
        "from sklearn.model_selection import train_test_split\n",
        "from sklearn.metrics import classification_report, accuracy_score\n",
        "from transformers import BertTokenizer, BertForSequenceClassification, AdamW\n",
        "from torch.utils.data import DataLoader, Dataset\n",
        "from transformers import get_scheduler\n"
      ],
      "metadata": {
        "id": "1TH54wXpkte3"
      },
      "execution_count": 2,
      "outputs": []
    },
    {
      "cell_type": "markdown",
      "source": [
        "# Data Ingestion and train-valid-test split - experiment 2"
      ],
      "metadata": {
        "id": "qpytpPhDOSis"
      }
    },
    {
      "cell_type": "code",
      "source": [
        "# Load the dataset\n",
        "df = pd.read_csv('/content/drive/MyDrive/datasets/deceptive-opinion.csv')\n",
        "\n",
        "print(\"Dataset Head:\")\n",
        "print(df.head())\n",
        "\n",
        "# Label encoding (truthful -> 1, deceptive -> 0)\n",
        "df['deceptive'] = df['deceptive'].apply(lambda x: 1 if x == 'truthful' else 0)\n",
        "\n",
        "# Split data into train, validation, and test sets\n",
        "train_texts, temp_texts, train_labels, temp_labels = train_test_split(\n",
        "    df['text'], df['deceptive'], test_size=0.3, random_state=42\n",
        ")\n",
        "val_texts, test_texts, val_labels, test_labels = train_test_split(\n",
        "    temp_texts, temp_labels, test_size=0.5, random_state=42\n",
        ")\n"
      ],
      "metadata": {
        "colab": {
          "base_uri": "https://localhost:8080/"
        },
        "id": "zmTOlBu_ktcA",
        "outputId": "30eb73c5-ef00-419b-81ec-b129fd757a89"
      },
      "execution_count": 4,
      "outputs": [
        {
          "output_type": "stream",
          "name": "stdout",
          "text": [
            "Dataset Head:\n",
            "  deceptive   hotel  polarity       source  \\\n",
            "0  truthful  conrad  positive  TripAdvisor   \n",
            "1  truthful   hyatt  positive  TripAdvisor   \n",
            "2  truthful   hyatt  positive  TripAdvisor   \n",
            "3  truthful    omni  positive  TripAdvisor   \n",
            "4  truthful   hyatt  positive  TripAdvisor   \n",
            "\n",
            "                                                text  \n",
            "0  We stayed for a one night getaway with family ...  \n",
            "1  Triple A rate with upgrade to view room was le...  \n",
            "2  This comes a little late as I'm finally catchi...  \n",
            "3  The Omni Chicago really delivers on all fronts...  \n",
            "4  I asked for a high floor away from the elevato...  \n"
          ]
        }
      ]
    },
    {
      "cell_type": "markdown",
      "source": [
        "# Tokenization using BERT tokenizer - experiment 2"
      ],
      "metadata": {
        "id": "5NR_4jk9Ocaz"
      }
    },
    {
      "cell_type": "code",
      "source": [
        "\n",
        "tokenizer = BertTokenizer.from_pretrained(\"bert-base-uncased\")\n",
        "\n",
        "def tokenize_function(texts):\n",
        "    return tokenizer(list(texts), padding=\"max_length\", truncation=True, max_length=128, return_tensors=\"pt\")\n",
        "\n",
        "train_encodings = tokenize_function(train_texts)\n",
        "val_encodings = tokenize_function(val_texts)\n",
        "test_encodings = tokenize_function(test_texts)\n"
      ],
      "metadata": {
        "colab": {
          "base_uri": "https://localhost:8080/",
          "height": 272,
          "referenced_widgets": [
            "1b86ad6c8e9c4db28505d0c682401eea",
            "a84d790580a3444c8e07dae218e3d49f",
            "225505e3367e4de2b512915b40f67a9f",
            "f6db15dc345b43b78056cd58a1b55dc9",
            "e75b4f59331946949f1f34e130f2acc3",
            "bf750ba36b7643908e8a6dbc57f52f32",
            "3870f245d4404584be6b858ec884805a",
            "bfb0b14fcaa845778dddd2939041381e",
            "deef9cb0e875410794ad6af328bdb6c0",
            "55656c7d69d64cc4a6c61aeec22f79be",
            "5c33f660dda3467fa92c6254052f284f",
            "90f1500fab01410891e21d4a1a1164f0",
            "5b37b3741b92412884803889297d5c54",
            "a884ef62cc904877a5d76ac6b48634a4",
            "188b2a35555f4210b9654cc8303d2bc4",
            "dadadc53f3e34fd4aa02625f14407cbe",
            "f83b3cd683f74c5ea2eaa8d74dd7d2c0",
            "ee27146fb6d64d249629a5551fedbd64",
            "026c81825d934ad2a5eaf82a48d2a47f",
            "7d189d263d0a4af1a438721df93d59a1",
            "61cef4eeeba54cb2bced4c7a8fd39f70",
            "debe0b9e34594e1fb9edb94235a5f400",
            "53a7aa5007b04b6084299384b838f3f9",
            "064cb3c6490a4b20bae92b2aff7d9470",
            "7af4677db6bd4821bb2edaff0a708476",
            "849ba5eca5ef4c5496a951f9e472c8ec",
            "8f0ff8f069b6490fa1fd239705b78582",
            "a751de9898934abda94463d05992146e",
            "b4524278d8d34731b1746a9b06d8f4f4",
            "79a9aa0c94e74813bae6d43a564fd0df",
            "ee06482399664f2ca2701d2b597812ac",
            "9e72222110bf4b178331692f3bb4afb0",
            "e944a0d459c442ec8e561cb9dc1f51d7",
            "46cbc98864d84244b95e6c0a24ba30a4",
            "989a895b66564cde9f11ae7a05ca8668",
            "d3fa6ccb49234c9a971cffa6a92198c8",
            "589951f613764aa79208d023c0f0894a",
            "a642bd675b114d63ae858fef9084993b",
            "23d81224afdc4df7a4f3578e21dad464",
            "c4c6265b4bfd4a3db17ce9307db06534",
            "5a76fbf5fbd64edca439fa25307eadaf",
            "d5836cddf3af4b96969992f5711fcbb1",
            "be3efb5e8d5f4125b62ffa2bdf54517c",
            "779f7286d5d04ea8b8b1f2856a44813d"
          ]
        },
        "id": "kIotqhQKktaA",
        "outputId": "070f2494-943d-4d92-c967-9883477400f9"
      },
      "execution_count": 5,
      "outputs": [
        {
          "output_type": "stream",
          "name": "stderr",
          "text": [
            "/usr/local/lib/python3.10/dist-packages/huggingface_hub/utils/_auth.py:94: UserWarning: \n",
            "The secret `HF_TOKEN` does not exist in your Colab secrets.\n",
            "To authenticate with the Hugging Face Hub, create a token in your settings tab (https://huggingface.co/settings/tokens), set it as secret in your Google Colab and restart your session.\n",
            "You will be able to reuse this secret in all of your notebooks.\n",
            "Please note that authentication is recommended but still optional to access public models or datasets.\n",
            "  warnings.warn(\n"
          ]
        },
        {
          "output_type": "display_data",
          "data": {
            "text/plain": [
              "tokenizer_config.json:   0%|          | 0.00/48.0 [00:00<?, ?B/s]"
            ],
            "application/vnd.jupyter.widget-view+json": {
              "version_major": 2,
              "version_minor": 0,
              "model_id": "1b86ad6c8e9c4db28505d0c682401eea"
            }
          },
          "metadata": {}
        },
        {
          "output_type": "display_data",
          "data": {
            "text/plain": [
              "vocab.txt:   0%|          | 0.00/232k [00:00<?, ?B/s]"
            ],
            "application/vnd.jupyter.widget-view+json": {
              "version_major": 2,
              "version_minor": 0,
              "model_id": "90f1500fab01410891e21d4a1a1164f0"
            }
          },
          "metadata": {}
        },
        {
          "output_type": "display_data",
          "data": {
            "text/plain": [
              "tokenizer.json:   0%|          | 0.00/466k [00:00<?, ?B/s]"
            ],
            "application/vnd.jupyter.widget-view+json": {
              "version_major": 2,
              "version_minor": 0,
              "model_id": "53a7aa5007b04b6084299384b838f3f9"
            }
          },
          "metadata": {}
        },
        {
          "output_type": "display_data",
          "data": {
            "text/plain": [
              "config.json:   0%|          | 0.00/570 [00:00<?, ?B/s]"
            ],
            "application/vnd.jupyter.widget-view+json": {
              "version_major": 2,
              "version_minor": 0,
              "model_id": "46cbc98864d84244b95e6c0a24ba30a4"
            }
          },
          "metadata": {}
        }
      ]
    },
    {
      "cell_type": "markdown",
      "source": [
        "# Create Dataset and DataLoader - experiment 2"
      ],
      "metadata": {
        "id": "_SofmrZgOjoH"
      }
    },
    {
      "cell_type": "code",
      "source": [
        "class ReviewDataset(Dataset):\n",
        "    def __init__(self, encodings, labels):\n",
        "        self.encodings = encodings\n",
        "        self.labels = labels\n",
        "\n",
        "    def __len__(self):\n",
        "        return len(self.labels)\n",
        "\n",
        "    def __getitem__(self, idx):\n",
        "        item = {key: val[idx] for key, val in self.encodings.items()}\n",
        "        item['labels'] = torch.tensor(self.labels[idx])\n",
        "        return item\n",
        "\n",
        "train_dataset = ReviewDataset(train_encodings, train_labels.tolist())\n",
        "val_dataset = ReviewDataset(val_encodings, val_labels.tolist())\n",
        "test_dataset = ReviewDataset(test_encodings, test_labels.tolist())\n",
        "\n",
        "# DataLoader\n",
        "train_loader = DataLoader(train_dataset, batch_size=16, shuffle=True)\n",
        "val_loader = DataLoader(val_dataset, batch_size=16)\n",
        "test_loader = DataLoader(test_dataset, batch_size=16)\n"
      ],
      "metadata": {
        "id": "uZ30yvVbktZe"
      },
      "execution_count": 6,
      "outputs": []
    },
    {
      "cell_type": "markdown",
      "source": [
        "# Initialize BERT Model - experiment 2"
      ],
      "metadata": {
        "id": "500R1a3BOqe6"
      }
    },
    {
      "cell_type": "code",
      "source": [
        "model = BertForSequenceClassification.from_pretrained(\"bert-base-uncased\", num_labels=2)\n",
        "device = torch.device(\"cuda\") if torch.cuda.is_available() else torch.device(\"cpu\")\n",
        "model.to(device)\n"
      ],
      "metadata": {
        "colab": {
          "base_uri": "https://localhost:8080/",
          "height": 908,
          "referenced_widgets": [
            "b181d35b41c648819e394250d95a3b21",
            "498325359ec141afb888d4372a15e491",
            "5bf2b03415b149fbba52799925029b25",
            "7067c8eb20e545d7bba20b01fc7f759f",
            "7296fb9a743048499d515f7f4ca590c6",
            "a412a7ad6d7946e390e7077b66bc2794",
            "eb6a2521a11d413a985077c9849e78c8",
            "9bd79e791165465889e3378cf0c6c6b5",
            "9181bd0ab739401687883b70655fc23f",
            "869c1ccc932a484d986845903846b3b1",
            "bfc046b9850f496aba9e00e8178877f4"
          ]
        },
        "id": "NkRWL-Pik73d",
        "outputId": "371c0f46-ff9b-4510-cbb2-113c84caa2a0"
      },
      "execution_count": 7,
      "outputs": [
        {
          "output_type": "display_data",
          "data": {
            "text/plain": [
              "model.safetensors:   0%|          | 0.00/440M [00:00<?, ?B/s]"
            ],
            "application/vnd.jupyter.widget-view+json": {
              "version_major": 2,
              "version_minor": 0,
              "model_id": "b181d35b41c648819e394250d95a3b21"
            }
          },
          "metadata": {}
        },
        {
          "output_type": "stream",
          "name": "stderr",
          "text": [
            "Some weights of BertForSequenceClassification were not initialized from the model checkpoint at bert-base-uncased and are newly initialized: ['classifier.bias', 'classifier.weight']\n",
            "You should probably TRAIN this model on a down-stream task to be able to use it for predictions and inference.\n"
          ]
        },
        {
          "output_type": "execute_result",
          "data": {
            "text/plain": [
              "BertForSequenceClassification(\n",
              "  (bert): BertModel(\n",
              "    (embeddings): BertEmbeddings(\n",
              "      (word_embeddings): Embedding(30522, 768, padding_idx=0)\n",
              "      (position_embeddings): Embedding(512, 768)\n",
              "      (token_type_embeddings): Embedding(2, 768)\n",
              "      (LayerNorm): LayerNorm((768,), eps=1e-12, elementwise_affine=True)\n",
              "      (dropout): Dropout(p=0.1, inplace=False)\n",
              "    )\n",
              "    (encoder): BertEncoder(\n",
              "      (layer): ModuleList(\n",
              "        (0-11): 12 x BertLayer(\n",
              "          (attention): BertAttention(\n",
              "            (self): BertSdpaSelfAttention(\n",
              "              (query): Linear(in_features=768, out_features=768, bias=True)\n",
              "              (key): Linear(in_features=768, out_features=768, bias=True)\n",
              "              (value): Linear(in_features=768, out_features=768, bias=True)\n",
              "              (dropout): Dropout(p=0.1, inplace=False)\n",
              "            )\n",
              "            (output): BertSelfOutput(\n",
              "              (dense): Linear(in_features=768, out_features=768, bias=True)\n",
              "              (LayerNorm): LayerNorm((768,), eps=1e-12, elementwise_affine=True)\n",
              "              (dropout): Dropout(p=0.1, inplace=False)\n",
              "            )\n",
              "          )\n",
              "          (intermediate): BertIntermediate(\n",
              "            (dense): Linear(in_features=768, out_features=3072, bias=True)\n",
              "            (intermediate_act_fn): GELUActivation()\n",
              "          )\n",
              "          (output): BertOutput(\n",
              "            (dense): Linear(in_features=3072, out_features=768, bias=True)\n",
              "            (LayerNorm): LayerNorm((768,), eps=1e-12, elementwise_affine=True)\n",
              "            (dropout): Dropout(p=0.1, inplace=False)\n",
              "          )\n",
              "        )\n",
              "      )\n",
              "    )\n",
              "    (pooler): BertPooler(\n",
              "      (dense): Linear(in_features=768, out_features=768, bias=True)\n",
              "      (activation): Tanh()\n",
              "    )\n",
              "  )\n",
              "  (dropout): Dropout(p=0.1, inplace=False)\n",
              "  (classifier): Linear(in_features=768, out_features=2, bias=True)\n",
              ")"
            ]
          },
          "metadata": {},
          "execution_count": 7
        }
      ]
    },
    {
      "cell_type": "markdown",
      "source": [
        "# Optimizer and Scheduler - experiment 2"
      ],
      "metadata": {
        "id": "Oea3twr4Oww1"
      }
    },
    {
      "cell_type": "code",
      "source": [
        "optimizer = AdamW(model.parameters(), lr=5e-5)\n",
        "num_training_steps = len(train_loader) * 3\n",
        "lr_scheduler = get_scheduler(\"linear\", optimizer=optimizer, num_warmup_steps=0, num_training_steps=num_training_steps)\n"
      ],
      "metadata": {
        "colab": {
          "base_uri": "https://localhost:8080/"
        },
        "id": "dbMuSHPLk70B",
        "outputId": "6eba251e-bc7c-4280-ba6a-189be4acfe98"
      },
      "execution_count": 8,
      "outputs": [
        {
          "output_type": "stream",
          "name": "stderr",
          "text": [
            "/usr/local/lib/python3.10/dist-packages/transformers/optimization.py:591: FutureWarning: This implementation of AdamW is deprecated and will be removed in a future version. Use the PyTorch implementation torch.optim.AdamW instead, or set `no_deprecation_warning=True` to disable this warning\n",
            "  warnings.warn(\n"
          ]
        }
      ]
    },
    {
      "cell_type": "markdown",
      "source": [
        "# Training Loop - experiment 2"
      ],
      "metadata": {
        "id": "2EH7kUuqO3He"
      }
    },
    {
      "cell_type": "code",
      "source": [
        "epochs = 3\n",
        "for epoch in range(epochs):\n",
        "    model.train()\n",
        "    for batch in train_loader:\n",
        "        batch = {k: v.to(device) for k, v in batch.items()}\n",
        "        outputs = model(**batch)\n",
        "        loss = outputs.loss\n",
        "        loss.backward()\n",
        "        optimizer.step()\n",
        "        lr_scheduler.step()\n",
        "        optimizer.zero_grad()\n",
        "\n",
        "    print(f\"Epoch {epoch+1} completed.\")\n"
      ],
      "metadata": {
        "colab": {
          "base_uri": "https://localhost:8080/"
        },
        "id": "VopYeN2tk7x-",
        "outputId": "0f693243-e748-4b31-9a0e-d262a79e776a"
      },
      "execution_count": 9,
      "outputs": [
        {
          "output_type": "stream",
          "name": "stdout",
          "text": [
            "Epoch 1 completed.\n",
            "Epoch 2 completed.\n",
            "Epoch 3 completed.\n"
          ]
        }
      ]
    },
    {
      "cell_type": "markdown",
      "source": [
        "# Evaluation(Valid) - experiment 2"
      ],
      "metadata": {
        "id": "sItY5IyAO92n"
      }
    },
    {
      "cell_type": "code",
      "source": [
        "# Evaluate on the validation set\n",
        "model.eval()\n",
        "val_preds, val_labels_list = [], []\n",
        "with torch.no_grad():\n",
        "    for batch in val_loader:\n",
        "        batch = {k: v.to(device) for k, v in batch.items()}\n",
        "        outputs = model(**batch)\n",
        "        logits = outputs.logits\n",
        "        val_preds.extend(torch.argmax(logits, dim=1).cpu().numpy())\n",
        "        val_labels_list.extend(batch['labels'].cpu().numpy())\n",
        "\n",
        "# Validation metrics\n",
        "print(\"Validation Classification Report:\")\n",
        "print(classification_report(val_labels_list, val_preds, target_names=['Deceptive', 'Truthful']))\n",
        "\n",
        "val_accuracy = accuracy_score(val_labels_list, val_preds)\n",
        "print(f\"Validation Accuracy: {val_accuracy}\")\n"
      ],
      "metadata": {
        "colab": {
          "base_uri": "https://localhost:8080/"
        },
        "id": "4xHy_ysjk7xd",
        "outputId": "ddd7fa39-0322-4bc6-caa0-199eaa69e1ef"
      },
      "execution_count": 10,
      "outputs": [
        {
          "output_type": "stream",
          "name": "stdout",
          "text": [
            "Validation Classification Report:\n",
            "              precision    recall  f1-score   support\n",
            "\n",
            "   Deceptive       0.85      0.92      0.88       122\n",
            "    Truthful       0.91      0.83      0.87       118\n",
            "\n",
            "    accuracy                           0.88       240\n",
            "   macro avg       0.88      0.87      0.87       240\n",
            "weighted avg       0.88      0.88      0.87       240\n",
            "\n",
            "Validation Accuracy: 0.875\n"
          ]
        }
      ]
    },
    {
      "cell_type": "markdown",
      "source": [
        "# Evaluation(Test) - experiment 2\n"
      ],
      "metadata": {
        "id": "YCrlMCq7PkNy"
      }
    },
    {
      "cell_type": "code",
      "source": [
        "# Evaluate on the test set\n",
        "model.eval()\n",
        "test_preds, test_labels_list = [], []\n",
        "with torch.no_grad():\n",
        "    for batch in test_loader:\n",
        "        batch = {k: v.to(device) for k, v in batch.items()}\n",
        "        outputs = model(**batch)\n",
        "        logits = outputs.logits\n",
        "        test_preds.extend(torch.argmax(logits, dim=1).cpu().numpy())\n",
        "        test_labels_list.extend(batch['labels'].cpu().numpy())\n",
        "\n",
        "# Test metrics\n",
        "print(\"Test Classification Report:\")\n",
        "print(classification_report(test_labels_list, test_preds, target_names=['Deceptive', 'Truthful']))\n",
        "\n",
        "test_accuracy = accuracy_score(test_labels_list, test_preds)\n",
        "print(f\"Test Accuracy: {test_accuracy}\")\n"
      ],
      "metadata": {
        "colab": {
          "base_uri": "https://localhost:8080/"
        },
        "id": "EbCXFysblPQ1",
        "outputId": "ef182b6d-1394-4c4b-f2a2-7c733a650c14"
      },
      "execution_count": 11,
      "outputs": [
        {
          "output_type": "stream",
          "name": "stdout",
          "text": [
            "Test Classification Report:\n",
            "              precision    recall  f1-score   support\n",
            "\n",
            "   Deceptive       0.79      0.90      0.84       125\n",
            "    Truthful       0.88      0.74      0.80       115\n",
            "\n",
            "    accuracy                           0.82       240\n",
            "   macro avg       0.83      0.82      0.82       240\n",
            "weighted avg       0.83      0.82      0.82       240\n",
            "\n",
            "Test Accuracy: 0.825\n"
          ]
        }
      ]
    },
    {
      "cell_type": "markdown",
      "source": [
        "# **# Experiment - 3**"
      ],
      "metadata": {
        "id": "5b8cCjWGrNeb"
      }
    },
    {
      "cell_type": "markdown",
      "source": [
        "# Data Ingestion and train-valid-test split - experiment 3"
      ],
      "metadata": {
        "id": "6lAc59YePv1p"
      }
    },
    {
      "cell_type": "code",
      "source": [
        "# Load dataset\n",
        "df = pd.read_csv(\"/content/drive/MyDrive/datasets/deceptive-opinion.csv\")\n",
        "\n",
        "# Split the data into training, validation, and test sets\n",
        "train_df, temp_df = train_test_split(df, test_size=0.3, random_state=42)\n",
        "val_df, test_df = train_test_split(temp_df, test_size=0.5, random_state=42)\n",
        "\n",
        "# Extract text and labels from the datasets\n",
        "train_texts = train_df['text'].tolist()\n",
        "train_labels = train_df['deceptive'].apply(lambda x: 1 if x == 'deceptive' else 0).tolist()\n",
        "\n",
        "val_texts = val_df['text'].tolist()\n",
        "val_labels = val_df['deceptive'].apply(lambda x: 1 if x == 'deceptive' else 0).tolist()\n",
        "\n",
        "test_texts = test_df['text'].tolist()\n",
        "test_labels = test_df['deceptive'].apply(lambda x: 1 if x == 'deceptive' else 0).tolist()\n"
      ],
      "metadata": {
        "id": "uyxhYoqGprV0"
      },
      "execution_count": 44,
      "outputs": []
    },
    {
      "cell_type": "markdown",
      "source": [
        "# Data Modification - experiment 3"
      ],
      "metadata": {
        "id": "d3bDzQ2PQLuS"
      }
    },
    {
      "cell_type": "code",
      "source": [
        "# Add polarity to the text data for training, validation, and test sets\n",
        "train_texts_with_polarity = [text + \" [SEP] Polarity: \" + polarity for text, polarity in zip(train_texts, train_df['polarity'])]\n",
        "val_texts_with_polarity = [text + \" [SEP] Polarity: \" + polarity for text, polarity in zip(val_texts, val_df['polarity'])]\n",
        "test_texts_with_polarity = [text + \" [SEP] Polarity: \" + polarity for text, polarity in zip(test_texts, test_df['polarity'])]\n",
        "\n",
        "print(train_texts_with_polarity[:5])\n"
      ],
      "metadata": {
        "colab": {
          "base_uri": "https://localhost:8080/"
        },
        "id": "PyWYkMsyrPmj",
        "outputId": "581c0f8e-3451-4409-a596-79f70d25807d"
      },
      "execution_count": 45,
      "outputs": [
        {
          "output_type": "stream",
          "name": "stdout",
          "text": [
            "[\"when i first checked the hotel's website and reviews i was completely sure that it would be a great hotel and i would have a great time there. but i was totally disappointed once i got there, first of all i asked for a nonsmoking room because i hate the odor , and in fact they gave me a non smoking room which smelled worse than a smoking one, it was smelly in a bad way it smelled like sweat and dirty laundry or something like that. then when i was trying to enjoy the view, they windows were all dusty and dirty. so i decided to get out of the room , and i went to the pool and it wasnt what i expected either it has nothing to do with the picture . so i went back to my room and called room service for them to complain about the smell and dirt so they gave me another room which smelled even worse!. i was about to freak out so they gave me some deodorant and it was tolerable; the bed was uncomfortable and the bathroom eww!, its all i can say about this hotel.\\n [SEP] Polarity: negative\", \"I had really high hopes for this hotel. The location seemed great and the prices were too. Unfortunatley, you get what you pay for. Despite being located near the miracle mile and navy pier, there weren't many other redeeming qualities. The staff was very rude. We arrived late after a long drive from Detroit and found nobody in the lobby to help us check in. Once we finally got checked in, our room hadn't been cleaned and there was trash left over from the last people. We were told the cleaning staff had gone home for the night and they couldn't get to it until morning! We had planned on seeing some of Chicago's attractions like the Field Museum but we could hardly find anyone to help us out with where to go. Their website advertises lots of specials and packages but we found absolutely no way to purchase them. Finally, when we checked out, they had charged our room an extra cleaning fee because the cleaning we requested on the first night. RIDICULOUS!\\n [SEP] Polarity: negative\", \"Hotel Monaco is simply amazing. I travel quite a bit, and am use to generic hotels, with horribly unimpressive rooms, and '5 star amenities' which usually mean a packet of instant coffee, and room service that won't serve after 9pm. Hotel Monaco on the other hand was very impressive. The suite i stayed in was stylish and cozy. This hotel has such personality. My absolute favorite part of my stay, aside from the amazing meal i had down stairs, was the in-room spa treatment. Hotel Monaco just raised the bar on hotels for me. Generic just won't do anymore. [SEP] Polarity: positive\", \"My experiences at the Fairmont Chicago were less than desirable. I try to be fair when I write my reviews, but fair is not in the Fairmont Chicago language. From pulling up to check in I felt the gouging start. $54 a night for parking is terrible for this area $30-$35 is the average and that is not affordable as it is but $54 is just disgusting to put on your guests. The parking was more than my car rental. In the room the internet is not complementary it is $16 for standard and $25 for some sort of ultra upgraded internet service. Gouge gouge gouge, who charges for internet anymore and even worse upgraded services. I didn't go online every day of my 8 day stay because of the cost. One update on the internet that they don't tell you upon check in is that if you sign up for the free premiere Fairmont club you will receive free in room internet service, I found that out on the last day of my stay. Other issues with this property is the shower pressure is not very good. The bed was hard and uncomfortable. And I would say there are many other properties that have a better location and price in the city. On a good note the Aria resturant in the Fairmont has a tremendous staff and serves up the best burger and fries I have ever had, loved the complimentary naan and dips to start, and the complimentary orange bark to finish. [SEP] Polarity: negative\", 'I have traveled to Chicago many times for business, and so I have expectations of hotels based on reasonable comparisons. There was nothing dramatically wrong the Sheraton, but it was simply overpriced for the quality of the hotel. It almost looked as if an accountant walk through the hotel looking for places to cut costs. The carpets were old, there was only one bar of soap in the bathroom, towels and linens were older than I expected, the rooms were in need of some redecorating, etc. during the week I was paying $349 per night for a room, and it simply was not near the quality I expected for that price. One positive to notice that the fitness room was quite good. Plenty of aerobic machines with TVs, weights, etc. location is also quite good (perhaps the reason for the high price) with close walks to Michigan Avenue and the river. In summary, I think you can find a much nicer hotel in a much better price in downtown Chicago. [SEP] Polarity: negative']\n"
          ]
        }
      ]
    },
    {
      "cell_type": "markdown",
      "source": [
        "# Tokenize the Data - experiment 3"
      ],
      "metadata": {
        "id": "vVFN2fkUQQS9"
      }
    },
    {
      "cell_type": "code",
      "source": [
        "from transformers import BertTokenizer\n",
        "\n",
        "# Load the pre-trained BERT tokenizer\n",
        "tokenizer = BertTokenizer.from_pretrained('bert-base-uncased')\n",
        "\n",
        "train_encodings_with_polarity = tokenizer(train_texts_with_polarity, padding=True, truncation=True, max_length=128, return_tensors=\"pt\")\n",
        "val_encodings_with_polarity = tokenizer(val_texts_with_polarity, padding=True, truncation=True, max_length=128, return_tensors=\"pt\")\n",
        "test_encodings_with_polarity = tokenizer(test_texts_with_polarity, padding=True, truncation=True, max_length=128, return_tensors=\"pt\")\n",
        "\n",
        "print(train_encodings_with_polarity['input_ids'][:5])  # Printing the tokenized ids for first 5 examples\n"
      ],
      "metadata": {
        "colab": {
          "base_uri": "https://localhost:8080/"
        },
        "id": "12XXeyYspBRk",
        "outputId": "79fe6b5f-a41d-4204-8949-38857167fbfa"
      },
      "execution_count": 46,
      "outputs": [
        {
          "output_type": "stream",
          "name": "stdout",
          "text": [
            "tensor([[  101,  2043,  1045,  2034,  7039,  1996,  3309,  1005,  1055,  4037,\n",
            "          1998,  4391,  1045,  2001,  3294,  2469,  2008,  2009,  2052,  2022,\n",
            "          1037,  2307,  3309,  1998,  1045,  2052,  2031,  1037,  2307,  2051,\n",
            "          2045,  1012,  2021,  1045,  2001,  6135,  9364,  2320,  1045,  2288,\n",
            "          2045,  1010,  2034,  1997,  2035,  1045,  2356,  2005,  1037,  2512,\n",
            "         25855,  6834,  2282,  2138,  1045,  5223,  1996, 19255,  1010,  1998,\n",
            "          1999,  2755,  2027,  2435,  2033,  1037,  2512,  9422,  2282,  2029,\n",
            "          9557,  4788,  2084,  1037,  9422,  2028,  1010,  2009,  2001,  5437,\n",
            "          2100,  1999,  1037,  2919,  2126,  2009,  9557,  2066,  7518,  1998,\n",
            "          6530, 14533,  2030,  2242,  2066,  2008,  1012,  2059,  2043,  1045,\n",
            "          2001,  2667,  2000,  5959,  1996,  3193,  1010,  2027,  3645,  2020,\n",
            "          2035, 12727,  1998,  6530,  1012,  2061,  1045,  2787,  2000,  2131,\n",
            "          2041,  1997,  1996,  2282,  1010,  1998,  1045,   102],\n",
            "        [  101,  1045,  2018,  2428,  2152,  8069,  2005,  2023,  3309,  1012,\n",
            "          1996,  3295,  2790,  2307,  1998,  1996,  7597,  2020,  2205,  1012,\n",
            "          4895, 13028,  9521, 18492,  1010,  2017,  2131,  2054,  2017,  3477,\n",
            "          2005,  1012,  2750,  2108,  2284,  2379,  1996,  9727,  3542,  1998,\n",
            "          3212, 10356,  1010,  2045,  4694,  1005,  1056,  2116,  2060,  2417,\n",
            "         21564,  2075, 11647,  1012,  1996,  3095,  2001,  2200, 12726,  1012,\n",
            "          2057,  3369,  2397,  2044,  1037,  2146,  3298,  2013,  5626,  1998,\n",
            "          2179,  6343,  1999,  1996,  9568,  2000,  2393,  2149,  4638,  1999,\n",
            "          1012,  2320,  2057,  2633,  2288,  7039,  1999,  1010,  2256,  2282,\n",
            "          2910,  1005,  1056,  2042, 12176,  1998,  2045,  2001, 11669,  2187,\n",
            "          2058,  2013,  1996,  2197,  2111,  1012,  2057,  2020,  2409,  1996,\n",
            "          9344,  3095,  2018,  2908,  2188,  2005,  1996,  2305,  1998,  2027,\n",
            "          2481,  1005,  1056,  2131,  2000,  2009,  2127,   102],\n",
            "        [  101,  3309, 14497,  2003,  3432,  6429,  1012,  1045,  3604,  3243,\n",
            "          1037,  2978,  1010,  1998,  2572,  2224,  2000, 12391,  9275,  1010,\n",
            "          2007, 27762,  4895,  5714, 27484,  4734,  1010,  1998,  1005,  1019,\n",
            "          2732, 19870,  1005,  2029,  2788,  2812,  1037, 14771,  1997,  7107,\n",
            "          4157,  1010,  1998,  2282,  2326,  2008,  2180,  1005,  1056,  3710,\n",
            "          2044,  1023,  9737,  1012,  3309, 14497,  2006,  1996,  2060,  2192,\n",
            "          2001,  2200,  8052,  1012,  1996,  7621,  1045,  4370,  1999,  2001,\n",
            "          2358,  8516,  4509,  1998, 26931,  1012,  2023,  3309,  2038,  2107,\n",
            "          6180,  1012,  2026,  7619,  5440,  2112,  1997,  2026,  2994,  1010,\n",
            "          4998,  2013,  1996,  6429,  7954,  1045,  2018,  2091,  5108,  1010,\n",
            "          2001,  1996,  1999,  1011,  2282, 12403,  3949,  1012,  3309, 14497,\n",
            "          2074,  2992,  1996,  3347,  2006,  9275,  2005,  2033,  1012, 12391,\n",
            "          2074,  2180,  1005,  1056,  2079,  4902,  1012,   102],\n",
            "        [  101,  2026,  6322,  2012,  1996,  4189,  9629,  3190,  2020,  2625,\n",
            "          2084, 16166,  1012,  1045,  3046,  2000,  2022,  4189,  2043,  1045,\n",
            "          4339,  2026,  4391,  1010,  2021,  4189,  2003,  2025,  1999,  1996,\n",
            "          4189,  9629,  3190,  2653,  1012,  2013,  4815,  2039,  2000,  4638,\n",
            "          1999,  1045,  2371,  1996,  2175, 15916,  2075,  2707,  1012,  1002,\n",
            "          5139,  1037,  2305,  2005,  5581,  2003,  6659,  2005,  2023,  2181,\n",
            "          1002,  2382,  1011,  1002,  3486,  2003,  1996,  2779,  1998,  2008,\n",
            "          2003,  2025, 15184,  2004,  2009,  2003,  2021,  1002,  5139,  2003,\n",
            "          2074, 19424,  2000,  2404,  2006,  2115,  6368,  1012,  1996,  5581,\n",
            "          2001,  2062,  2084,  2026,  2482, 12635,  1012,  1999,  1996,  2282,\n",
            "          1996,  4274,  2003,  2025, 21053,  2009,  2003,  1002,  2385,  2005,\n",
            "          3115,  1998,  1002,  2423,  2005,  2070,  4066,  1997, 11087,  9725,\n",
            "          4274,  2326,  1012,  2175, 22890,  2175, 22890,   102],\n",
            "        [  101,  1045,  2031,  6158,  2000,  3190,  2116,  2335,  2005,  2449,\n",
            "          1010,  1998,  2061,  1045,  2031, 10908,  1997,  9275,  2241,  2006,\n",
            "          9608, 18539,  1012,  2045,  2001,  2498, 12099,  3308,  1996,  2016,\n",
            "          8609,  2239,  1010,  2021,  2009,  2001,  3432,  2058, 18098,  6610,\n",
            "          2094,  2005,  1996,  3737,  1997,  1996,  3309,  1012,  2009,  2471,\n",
            "          2246,  2004,  2065,  2019, 17907,  3328,  2083,  1996,  3309,  2559,\n",
            "          2005,  3182,  2000,  3013,  5366,  1012,  1996, 27997,  2020,  2214,\n",
            "          1010,  2045,  2001,  2069,  2028,  3347,  1997,  7815,  1999,  1996,\n",
            "          5723,  1010, 24213,  1998, 17517,  2015,  2020,  3080,  2084,  1045,\n",
            "          3517,  1010,  1996,  4734,  2020,  1999,  2342,  1997,  2070,  2417,\n",
            "          8586,  6525,  3436,  1010,  4385,  1012,  2076,  1996,  2733,  1045,\n",
            "          2001,  7079,  1002,  4090,  2683,  2566,  2305,  2005,  1037,  2282,\n",
            "          1010,  1998,  2009,  3432,  2001,  2025,  2379,   102]])\n"
          ]
        }
      ]
    },
    {
      "cell_type": "markdown",
      "source": [
        "# Create a Dataset Class - Experiment 3"
      ],
      "metadata": {
        "id": "lDHBLVNRQh4j"
      }
    },
    {
      "cell_type": "code",
      "source": [
        "import torch\n",
        "from torch.utils.data import Dataset, DataLoader\n",
        "\n",
        "\n",
        "class ReviewDataset(Dataset):\n",
        "    def __init__(self, encodings, labels):\n",
        "        self.encodings = encodings\n",
        "        self.labels = labels\n",
        "\n",
        "    def __getitem__(self, idx):\n",
        "        item = {key: torch.tensor(val[idx]) for key, val in self.encodings.items()}\n",
        "        item['labels'] = torch.tensor(self.labels[idx])\n",
        "        return item\n",
        "\n",
        "    def __len__(self):\n",
        "        return len(self.labels)\n",
        "\n",
        "\n",
        "train_dataset_with_polarity = ReviewDataset(train_encodings_with_polarity, train_labels)\n",
        "val_dataset_with_polarity = ReviewDataset(val_encodings_with_polarity, val_labels)\n",
        "test_dataset_with_polarity = ReviewDataset(test_encodings_with_polarity, test_labels)\n",
        "\n",
        "# Create DataLoaders\n",
        "train_loader_with_polarity = DataLoader(train_dataset_with_polarity, batch_size=16, shuffle=True)\n",
        "val_loader_with_polarity = DataLoader(val_dataset_with_polarity, batch_size=16)\n",
        "test_loader_with_polarity = DataLoader(test_dataset_with_polarity, batch_size=16)\n"
      ],
      "metadata": {
        "id": "MSNgaDBGpBPL"
      },
      "execution_count": 47,
      "outputs": []
    },
    {
      "cell_type": "markdown",
      "source": [
        "# Defining the BERT Model for Training - expereiment 3"
      ],
      "metadata": {
        "id": "s0g7lsqdQmfj"
      }
    },
    {
      "cell_type": "code",
      "source": [
        "from transformers import BertForSequenceClassification, AdamW\n",
        "from transformers import get_scheduler\n",
        "\n",
        "model = BertForSequenceClassification.from_pretrained(\"bert-base-uncased\", num_labels=2)\n",
        "\n",
        "device = torch.device(\"cuda\") if torch.cuda.is_available() else torch.device(\"cpu\")\n",
        "model.to(device)\n",
        "\n",
        "optimizer = AdamW(model.parameters(), lr=5e-5)\n",
        "lr_scheduler = get_scheduler(\"linear\", optimizer=optimizer, num_warmup_steps=0, num_training_steps=len(train_loader_with_polarity) * 3)\n"
      ],
      "metadata": {
        "colab": {
          "base_uri": "https://localhost:8080/"
        },
        "id": "QPauW8BIpBM1",
        "outputId": "517f9dd3-5ed2-4cc1-bd56-d295c9f54f37"
      },
      "execution_count": 48,
      "outputs": [
        {
          "output_type": "stream",
          "name": "stderr",
          "text": [
            "Some weights of BertForSequenceClassification were not initialized from the model checkpoint at bert-base-uncased and are newly initialized: ['classifier.bias', 'classifier.weight']\n",
            "You should probably TRAIN this model on a down-stream task to be able to use it for predictions and inference.\n",
            "/usr/local/lib/python3.10/dist-packages/transformers/optimization.py:591: FutureWarning: This implementation of AdamW is deprecated and will be removed in a future version. Use the PyTorch implementation torch.optim.AdamW instead, or set `no_deprecation_warning=True` to disable this warning\n",
            "  warnings.warn(\n"
          ]
        }
      ]
    },
    {
      "cell_type": "markdown",
      "source": [
        "# Training the Model(training loop) - experimemnt 3"
      ],
      "metadata": {
        "id": "kos3dBoeQ1bY"
      }
    },
    {
      "cell_type": "code",
      "source": [
        "from sklearn.metrics import accuracy_score, precision_recall_fscore_support, confusion_matrix\n",
        "\n",
        "# Training loop\n",
        "epochs = 3\n",
        "for epoch in range(epochs):\n",
        "    model.train()\n",
        "    for batch in train_loader_with_polarity:\n",
        "        batch = {k: v.to(device) for k, v in batch.items()}\n",
        "        outputs = model(**batch)\n",
        "        loss = outputs.loss\n",
        "        loss.backward()\n",
        "        optimizer.step()\n",
        "        lr_scheduler.step()\n",
        "        optimizer.zero_grad()\n",
        "\n",
        "    # Validation loop\n",
        "    model.eval()\n",
        "    val_preds, val_labels_list = [], []\n",
        "    with torch.no_grad():\n",
        "        for batch in val_loader_with_polarity:\n",
        "            batch = {k: v.to(device) for k, v in batch.items()}\n",
        "            outputs = model(**batch)\n",
        "            logits = outputs.logits\n",
        "            val_preds.extend(torch.argmax(logits, dim=1).cpu().numpy())\n",
        "            val_labels_list.extend(batch['labels'].cpu().numpy())\n",
        "\n",
        "    # Calculate and print evaluation metrics\n",
        "    precision, recall, f1, _ = precision_recall_fscore_support(val_labels_list, val_preds, average='binary')\n",
        "    accuracy = accuracy_score(val_labels_list, val_preds)\n",
        "    print(f\"Epoch {epoch + 1}:\")\n",
        "    print(f\"Validation Accuracy: {accuracy:.4f}\")\n",
        "    print(f\"Validation Precision: {precision:.4f}\")\n",
        "    print(f\"Validation Recall: {recall:.4f}\")\n",
        "    print(f\"Validation F1-Score: {f1:.4f}\")\n",
        "    print(confusion_matrix(val_labels_list, val_preds))\n"
      ],
      "metadata": {
        "colab": {
          "base_uri": "https://localhost:8080/"
        },
        "id": "qtYSueZEpBKe",
        "outputId": "ea8e5fb9-18ba-4b97-b867-b60c55ba1ffb"
      },
      "execution_count": 49,
      "outputs": [
        {
          "output_type": "stream",
          "name": "stderr",
          "text": [
            "<ipython-input-47-1cf0d5f6d0bc>:11: UserWarning: To copy construct from a tensor, it is recommended to use sourceTensor.clone().detach() or sourceTensor.clone().detach().requires_grad_(True), rather than torch.tensor(sourceTensor).\n",
            "  item = {key: torch.tensor(val[idx]) for key, val in self.encodings.items()}\n"
          ]
        },
        {
          "output_type": "stream",
          "name": "stdout",
          "text": [
            "Epoch 1:\n",
            "Validation Accuracy: 0.8708\n",
            "Validation Precision: 0.8527\n",
            "Validation Recall: 0.9016\n",
            "Validation F1-Score: 0.8765\n",
            "[[ 99  19]\n",
            " [ 12 110]]\n"
          ]
        },
        {
          "output_type": "stream",
          "name": "stderr",
          "text": [
            "<ipython-input-47-1cf0d5f6d0bc>:11: UserWarning: To copy construct from a tensor, it is recommended to use sourceTensor.clone().detach() or sourceTensor.clone().detach().requires_grad_(True), rather than torch.tensor(sourceTensor).\n",
            "  item = {key: torch.tensor(val[idx]) for key, val in self.encodings.items()}\n"
          ]
        },
        {
          "output_type": "stream",
          "name": "stdout",
          "text": [
            "Epoch 2:\n",
            "Validation Accuracy: 0.9000\n",
            "Validation Precision: 0.8551\n",
            "Validation Recall: 0.9672\n",
            "Validation F1-Score: 0.9077\n",
            "[[ 98  20]\n",
            " [  4 118]]\n"
          ]
        },
        {
          "output_type": "stream",
          "name": "stderr",
          "text": [
            "<ipython-input-47-1cf0d5f6d0bc>:11: UserWarning: To copy construct from a tensor, it is recommended to use sourceTensor.clone().detach() or sourceTensor.clone().detach().requires_grad_(True), rather than torch.tensor(sourceTensor).\n",
            "  item = {key: torch.tensor(val[idx]) for key, val in self.encodings.items()}\n"
          ]
        },
        {
          "output_type": "stream",
          "name": "stdout",
          "text": [
            "Epoch 3:\n",
            "Validation Accuracy: 0.8875\n",
            "Validation Precision: 0.8862\n",
            "Validation Recall: 0.8934\n",
            "Validation F1-Score: 0.8898\n",
            "[[104  14]\n",
            " [ 13 109]]\n"
          ]
        }
      ]
    },
    {
      "cell_type": "markdown",
      "source": [
        "# Test Evaluation - experiment 3"
      ],
      "metadata": {
        "id": "6ZKFP-NDQ-mi"
      }
    },
    {
      "cell_type": "code",
      "source": [
        "# Test Evaluation\n",
        "model.eval()\n",
        "test_preds, test_labels_list = [], []\n",
        "with torch.no_grad():\n",
        "    for batch in test_loader_with_polarity:\n",
        "        batch = {k: v.to(device) for k, v in batch.items()}\n",
        "        outputs = model(**batch)\n",
        "        logits = outputs.logits\n",
        "        test_preds.extend(torch.argmax(logits, dim=1).cpu().numpy())\n",
        "        test_labels_list.extend(batch['labels'].cpu().numpy())\n",
        "\n",
        "# Calculate evaluation metrics for the test set\n",
        "test_accuracy = accuracy_score(test_labels_list, test_preds)\n",
        "test_precision, test_recall, test_f1, _ = precision_recall_fscore_support(test_labels_list, test_preds, average='binary')\n",
        "\n",
        "# Print results\n",
        "print(f\"Test Accuracy: {test_accuracy:.4f}\")\n",
        "print(f\"Test Precision: {test_precision:.4f}\")\n",
        "print(f\"Test Recall: {test_recall:.4f}\")\n",
        "print(f\"Test F1-Score: {test_f1:.4f}\")\n",
        "print(\"Confusion Matrix:\")\n",
        "print(confusion_matrix(test_labels_list, test_preds))\n"
      ],
      "metadata": {
        "colab": {
          "base_uri": "https://localhost:8080/"
        },
        "id": "WZjENe8EpBJ-",
        "outputId": "617b8658-27f7-4e23-d367-ca10be1d7e13"
      },
      "execution_count": 50,
      "outputs": [
        {
          "output_type": "stream",
          "name": "stderr",
          "text": [
            "<ipython-input-47-1cf0d5f6d0bc>:11: UserWarning: To copy construct from a tensor, it is recommended to use sourceTensor.clone().detach() or sourceTensor.clone().detach().requires_grad_(True), rather than torch.tensor(sourceTensor).\n",
            "  item = {key: torch.tensor(val[idx]) for key, val in self.encodings.items()}\n"
          ]
        },
        {
          "output_type": "stream",
          "name": "stdout",
          "text": [
            "Test Accuracy: 0.8333\n",
            "Test Precision: 0.8295\n",
            "Test Recall: 0.8560\n",
            "Test F1-Score: 0.8425\n",
            "Confusion Matrix:\n",
            "[[ 93  22]\n",
            " [ 18 107]]\n"
          ]
        }
      ]
    }
  ]
}